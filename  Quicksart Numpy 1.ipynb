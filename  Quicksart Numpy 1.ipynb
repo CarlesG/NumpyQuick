{
 "cells": [
  {
   "cell_type": "markdown",
   "id": "protecting-salmon",
   "metadata": {},
   "source": [
    "# Quickstart Numpy.\n",
    "This tutorial is from [this link](https://numpy.org/devdocs/user/absolute_beginners.html)"
   ]
  },
  {
   "cell_type": "markdown",
   "id": "destroyed-nowhere",
   "metadata": {},
   "source": [
    "We import **Numpy**"
   ]
  },
  {
   "cell_type": "code",
   "execution_count": 2,
   "id": "weekly-elite",
   "metadata": {},
   "outputs": [],
   "source": [
    "import numpy as np"
   ]
  },
  {
   "cell_type": "markdown",
   "id": "available-potato",
   "metadata": {},
   "source": [
    "We can create arrays with np.array()"
   ]
  },
  {
   "cell_type": "code",
   "execution_count": 3,
   "id": "coral-knock",
   "metadata": {},
   "outputs": [
    {
     "name": "stdout",
     "output_type": "stream",
     "text": [
      "[1 2 3 4]\n",
      "1\n"
     ]
    }
   ],
   "source": [
    "a = np.array([1, 2, 3, 4])\n",
    "print(a)\n",
    "print(a[0])"
   ]
  },
  {
   "cell_type": "markdown",
   "id": "floating-geometry",
   "metadata": {},
   "source": [
    "## How to create a basic array."
   ]
  },
  {
   "cell_type": "markdown",
   "id": "regulation-entrepreneur",
   "metadata": {},
   "source": [
    "To create an array we can use multiple options:\n",
    "- np.array\n",
    "- np.zeros\n",
    "- np.ones\n",
    "- np.empty\n",
    "- np.arange\n",
    "- np.linspace"
   ]
  },
  {
   "cell_type": "code",
   "execution_count": 4,
   "id": "sufficient-halloween",
   "metadata": {},
   "outputs": [
    {
     "data": {
      "text/plain": [
       "array([[1, 2, 3, 4],\n",
       "       [3, 4, 5, 6]])"
      ]
     },
     "execution_count": 4,
     "metadata": {},
     "output_type": "execute_result"
    }
   ],
   "source": [
    "np.array([[1, 2, 3, 4],[3, 4, 5, 6]])"
   ]
  },
  {
   "cell_type": "code",
   "execution_count": 5,
   "id": "floating-layer",
   "metadata": {},
   "outputs": [
    {
     "data": {
      "text/plain": [
       "array([[[0., 0., 0.],\n",
       "        [0., 0., 0.],\n",
       "        [0., 0., 0.]],\n",
       "\n",
       "       [[0., 0., 0.],\n",
       "        [0., 0., 0.],\n",
       "        [0., 0., 0.]]])"
      ]
     },
     "execution_count": 5,
     "metadata": {},
     "output_type": "execute_result"
    }
   ],
   "source": [
    "np.zeros((2, 3, 3))"
   ]
  },
  {
   "cell_type": "code",
   "execution_count": 6,
   "id": "minor-electronics",
   "metadata": {},
   "outputs": [
    {
     "data": {
      "text/plain": [
       "array([[1., 1.],\n",
       "       [1., 1.]])"
      ]
     },
     "execution_count": 6,
     "metadata": {},
     "output_type": "execute_result"
    }
   ],
   "source": [
    "np.ones((2, 2))"
   ]
  },
  {
   "cell_type": "code",
   "execution_count": 7,
   "id": "double-boulder",
   "metadata": {},
   "outputs": [
    {
     "data": {
      "text/plain": [
       "array([[-5.73021895e-300],\n",
       "       [ 8.04338871e-320]])"
      ]
     },
     "execution_count": 7,
     "metadata": {},
     "output_type": "execute_result"
    }
   ],
   "source": [
    "np.empty((2, 1))"
   ]
  },
  {
   "cell_type": "code",
   "execution_count": 8,
   "id": "classified-collective",
   "metadata": {},
   "outputs": [
    {
     "data": {
      "text/plain": [
       "array([2, 4, 6, 8])"
      ]
     },
     "execution_count": 8,
     "metadata": {},
     "output_type": "execute_result"
    }
   ],
   "source": [
    "np.arange(2, 10, 2)"
   ]
  },
  {
   "cell_type": "code",
   "execution_count": 9,
   "id": "latter-partnership",
   "metadata": {},
   "outputs": [
    {
     "data": {
      "text/plain": [
       "array([0, 1, 2, 3, 4, 5, 6, 7, 8, 9])"
      ]
     },
     "execution_count": 9,
     "metadata": {},
     "output_type": "execute_result"
    }
   ],
   "source": [
    "np.arange(10)"
   ]
  },
  {
   "cell_type": "code",
   "execution_count": 10,
   "id": "demonstrated-athletics",
   "metadata": {},
   "outputs": [
    {
     "data": {
      "text/plain": [
       "array([ 0.,  5., 10.])"
      ]
     },
     "execution_count": 10,
     "metadata": {},
     "output_type": "execute_result"
    }
   ],
   "source": [
    "np.linspace(0, 10, 3)"
   ]
  },
  {
   "cell_type": "markdown",
   "id": "mexican-township",
   "metadata": {},
   "source": [
    "## Adding, removing and sorting elements of an array."
   ]
  },
  {
   "cell_type": "markdown",
   "id": "based-anderson",
   "metadata": {},
   "source": [
    "We can sort or concatenate elements of an array with the next methods:\n",
    "- np.sort()\n",
    "- np.concatenate()"
   ]
  },
  {
   "cell_type": "code",
   "execution_count": 11,
   "id": "valid-window",
   "metadata": {},
   "outputs": [
    {
     "name": "stdout",
     "output_type": "stream",
     "text": [
      "[1 2 3 4 5 6 7 8]\n",
      "[1 2 3 4 5 6 7 8]\n"
     ]
    }
   ],
   "source": [
    "arr = np.array([2, 1, 5, 3, 7, 4, 6, 8])\n",
    "print(np.sort(arr))\n",
    "\n",
    "a = np.array([1, 2, 3, 4])\n",
    "b = np.array([5, 6, 7, 8])\n",
    "print(np.concatenate((a,b)))"
   ]
  },
  {
   "cell_type": "markdown",
   "id": "incorporate-travel",
   "metadata": {},
   "source": [
    "We can concatenate by different axes or dimensions:"
   ]
  },
  {
   "cell_type": "code",
   "execution_count": 12,
   "id": "changing-wings",
   "metadata": {},
   "outputs": [
    {
     "name": "stdout",
     "output_type": "stream",
     "text": [
      "[[1 2]\n",
      " [3 4]\n",
      " [5 6]]\n"
     ]
    }
   ],
   "source": [
    "x = np.array([[1, 2], [3, 4]])\n",
    "y = np.array([[5, 6]])\n",
    "z = np.concatenate((x, y), axis = 0)\n",
    "print(z)"
   ]
  },
  {
   "cell_type": "markdown",
   "id": "nervous-influence",
   "metadata": {},
   "source": [
    "## How do you know the shape and size of an array?\n",
    "We can use:\n",
    "- ndarray.ndim number of dimensions of the array\n",
    "- ndarray.shape: tupple with the dim of each axis\n",
    "- ndarray.size: number of total elements of the array"
   ]
  },
  {
   "cell_type": "code",
   "execution_count": 13,
   "id": "variable-newton",
   "metadata": {},
   "outputs": [
    {
     "name": "stdout",
     "output_type": "stream",
     "text": [
      "4\n",
      "(2, 2)\n",
      "2\n"
     ]
    }
   ],
   "source": [
    "print(x.size)\n",
    "print(x.shape)\n",
    "print(x.ndim)"
   ]
  },
  {
   "cell_type": "markdown",
   "id": "floating-conservation",
   "metadata": {},
   "source": [
    "## Can you reshape an array\n",
    "We can reshape with **np.reshape** or **ndarray.reshape()**: "
   ]
  },
  {
   "cell_type": "code",
   "execution_count": 14,
   "id": "approximate-bennett",
   "metadata": {},
   "outputs": [
    {
     "name": "stdout",
     "output_type": "stream",
     "text": [
      "[0 1 2 3 4 5]\n",
      "[[0 1 2]\n",
      " [3 4 5]]\n"
     ]
    }
   ],
   "source": [
    "a = np.arange(6)\n",
    "print(a)\n",
    "b = np.reshape(a, newshape = (2, 3))\n",
    "b = a.reshape(2, 3)\n",
    "print(b)"
   ]
  },
  {
   "cell_type": "markdown",
   "id": "overall-swift",
   "metadata": {},
   "source": [
    "## How to convert an array of 1D to 2D."
   ]
  },
  {
   "cell_type": "markdown",
   "id": "wrong-carolina",
   "metadata": {},
   "source": [
    "We can do it with two manners: \n",
    "- np.newaxis\n",
    "- np.expand_dims"
   ]
  },
  {
   "cell_type": "code",
   "execution_count": 15,
   "id": "identical-execution",
   "metadata": {},
   "outputs": [
    {
     "name": "stdout",
     "output_type": "stream",
     "text": [
      "[1 2 3 4 5 6]\n",
      "[[1 2 3 4 5 6]]\n",
      "(1, 6)\n",
      "(6, 1)\n",
      "(1, 6)\n"
     ]
    }
   ],
   "source": [
    "a = np.array([1, 2, 3, 4, 5, 6])\n",
    "print(a)\n",
    "a2 = a[np.newaxis, :]\n",
    "a3 = a[:, np.newaxis]\n",
    "print(a2)\n",
    "print(a2.shape)\n",
    "print(a3.shape)\n",
    "c = np.expand_dims(a, axis = 0)\n",
    "print(c.shape)"
   ]
  },
  {
   "cell_type": "markdown",
   "id": "alien-grounds",
   "metadata": {},
   "source": [
    "## Indexing and slicing."
   ]
  },
  {
   "cell_type": "markdown",
   "id": "secure-surname",
   "metadata": {},
   "source": [
    "We have some examples:"
   ]
  },
  {
   "cell_type": "code",
   "execution_count": 16,
   "id": "sound-chance",
   "metadata": {},
   "outputs": [
    {
     "name": "stdout",
     "output_type": "stream",
     "text": [
      "2\n",
      "[1 2]\n",
      "[2 3]\n",
      "[2 3]\n"
     ]
    }
   ],
   "source": [
    "data = np.array([1, 2, 3])\n",
    "print(data[1])\n",
    "print(data[0:2])\n",
    "print(data[1:])\n",
    "print(data[-2:])"
   ]
  },
  {
   "cell_type": "markdown",
   "id": "alleged-aircraft",
   "metadata": {},
   "source": [
    "We can visualize it this way:\n",
    "![imagen](images/np_indexing.png)"
   ]
  },
  {
   "cell_type": "markdown",
   "id": "divine-valuation",
   "metadata": {},
   "source": [
    "If we wante to select values from your array that fulfill certain conditions,it's straightforfward with Numpy"
   ]
  },
  {
   "cell_type": "code",
   "execution_count": 17,
   "id": "annoying-sodium",
   "metadata": {},
   "outputs": [],
   "source": [
    "a = np.array([[1 , 2, 3, 4], [5, 6, 7, 8], [9, 10, 11, 12]])"
   ]
  },
  {
   "cell_type": "markdown",
   "id": "genuine-doubt",
   "metadata": {},
   "source": [
    "print(a[a < 6])"
   ]
  },
  {
   "cell_type": "markdown",
   "id": "instructional-anger",
   "metadata": {},
   "source": [
    "We can select, for example, number that are equal to or greater than 5, and use that condition to index an array."
   ]
  },
  {
   "cell_type": "code",
   "execution_count": 18,
   "id": "speaking-filing",
   "metadata": {},
   "outputs": [
    {
     "name": "stdout",
     "output_type": "stream",
     "text": [
      "[[False False False False]\n",
      " [ True  True  True  True]\n",
      " [ True  True  True  True]]\n",
      "[ 5  6  7  8  9 10 11 12]\n"
     ]
    }
   ],
   "source": [
    "five_up = (a >= 5)\n",
    "print(five_up)\n",
    "print(a[five_up])"
   ]
  },
  {
   "cell_type": "markdown",
   "id": "cosmetic-storm",
   "metadata": {},
   "source": [
    "We can select elements that are divisible by 2:"
   ]
  },
  {
   "cell_type": "code",
   "execution_count": 19,
   "id": "corrected-enforcement",
   "metadata": {},
   "outputs": [],
   "source": [
    "divisible_by_2 = a[a % 2 == 0]"
   ]
  },
  {
   "cell_type": "code",
   "execution_count": 20,
   "id": "union-rainbow",
   "metadata": {},
   "outputs": [
    {
     "name": "stdout",
     "output_type": "stream",
     "text": [
      "[ 2  4  6  8 10 12]\n"
     ]
    }
   ],
   "source": [
    "print(divisible_by_2)"
   ]
  },
  {
   "cell_type": "raw",
   "id": "massive-anniversary",
   "metadata": {},
   "source": [
    "Or we can select elements that satisfy two conditions at the same time using & and |:"
   ]
  },
  {
   "cell_type": "code",
   "execution_count": 21,
   "id": "spread-brush",
   "metadata": {},
   "outputs": [
    {
     "name": "stdout",
     "output_type": "stream",
     "text": [
      "[ 3  4  5  6  7  8  9 10]\n"
     ]
    }
   ],
   "source": [
    "c = a[(a > 2) & (a < 11)]\n",
    "print(c)"
   ]
  },
  {
   "cell_type": "code",
   "execution_count": 22,
   "id": "lightweight-logan",
   "metadata": {},
   "outputs": [
    {
     "name": "stdout",
     "output_type": "stream",
     "text": [
      "[[ 1  2  3  4]\n",
      " [ 5  6  7  8]\n",
      " [ 9 10 11 12]]\n"
     ]
    }
   ],
   "source": [
    "a = np.array([[1, 2, 3, 4], [5, 6, 7, 8], [9, 10, 11, 12]])\n",
    "print(a)"
   ]
  },
  {
   "cell_type": "markdown",
   "id": "personal-causing",
   "metadata": {},
   "source": [
    "We can use **_np.nonzero()_** to print indices of elements that are, for example, less than 5:"
   ]
  },
  {
   "cell_type": "code",
   "execution_count": 23,
   "id": "decent-international",
   "metadata": {},
   "outputs": [
    {
     "name": "stdout",
     "output_type": "stream",
     "text": [
      "(array([0, 0, 0, 0]), array([0, 1, 2, 3]))\n"
     ]
    }
   ],
   "source": [
    "b = np.nonzero(a < 5)\n",
    "print(b)"
   ]
  },
  {
   "cell_type": "markdown",
   "id": "opened-restaurant",
   "metadata": {},
   "source": [
    "In this example, a tuple of arrays was returned, one for each dimension. The firts array represents the row indices where the values are found, and the second array represents the columns.\n",
    "\n",
    "If we want to generate a list of coordinates, we can zip the arrays, iterate over the list of coordinates and print them. For example:"
   ]
  },
  {
   "cell_type": "code",
   "execution_count": 24,
   "id": "controlled-lotus",
   "metadata": {},
   "outputs": [
    {
     "name": "stdout",
     "output_type": "stream",
     "text": [
      "[(0, 0), (0, 1), (0, 2), (0, 3)]\n"
     ]
    }
   ],
   "source": [
    "list_of_coordinates = list(zip(b[0],b[1]))\n",
    "print(list_of_coordinates)"
   ]
  },
  {
   "cell_type": "code",
   "execution_count": 25,
   "id": "breathing-separation",
   "metadata": {},
   "outputs": [
    {
     "name": "stdout",
     "output_type": "stream",
     "text": [
      "(0, 0)\n",
      "(0, 1)\n",
      "(0, 2)\n",
      "(0, 3)\n"
     ]
    }
   ],
   "source": [
    "for coord in list_of_coordinates:\n",
    "    print(coord)"
   ]
  },
  {
   "cell_type": "markdown",
   "id": "supported-array",
   "metadata": {},
   "source": [
    "We can also use np.nonzero() to print the elements in an array that are less than 5:\n"
   ]
  },
  {
   "cell_type": "code",
   "execution_count": 26,
   "id": "sensitive-accessory",
   "metadata": {},
   "outputs": [
    {
     "name": "stdout",
     "output_type": "stream",
     "text": [
      "[1 2 3 4]\n"
     ]
    }
   ],
   "source": [
    "print(a[b])"
   ]
  },
  {
   "cell_type": "markdown",
   "id": "raised-generator",
   "metadata": {},
   "source": [
    "If the element you're looking for doesn't exist in the array, then the returned array of indices will be empty. For example:"
   ]
  },
  {
   "cell_type": "code",
   "execution_count": 27,
   "id": "requested-falls",
   "metadata": {},
   "outputs": [
    {
     "name": "stdout",
     "output_type": "stream",
     "text": [
      "(array([], dtype=int64), array([], dtype=int64))\n"
     ]
    }
   ],
   "source": [
    "not_there = np.nonzero(a == 42)\n",
    "print(not_there)"
   ]
  },
  {
   "cell_type": "markdown",
   "id": "charming-prophet",
   "metadata": {},
   "source": [
    "## How to create an array from existing data.\n",
    "We can easily create a new array from a section of an existing array"
   ]
  },
  {
   "cell_type": "code",
   "execution_count": 28,
   "id": "through-information",
   "metadata": {},
   "outputs": [],
   "source": [
    "a = np.array([1,  2,  3,  4,  5,  6,  7,  8,  9, 10])"
   ]
  },
  {
   "cell_type": "markdown",
   "id": "worthy-comparative",
   "metadata": {},
   "source": [
    "We can slice it:"
   ]
  },
  {
   "cell_type": "code",
   "execution_count": 29,
   "id": "alleged-section",
   "metadata": {},
   "outputs": [
    {
     "data": {
      "text/plain": [
       "array([4, 5, 6, 7, 8])"
      ]
     },
     "execution_count": 29,
     "metadata": {},
     "output_type": "execute_result"
    }
   ],
   "source": [
    "arr1 = a[3:8]\n",
    "arr1"
   ]
  },
  {
   "cell_type": "markdown",
   "id": "turkish-sphere",
   "metadata": {},
   "source": [
    "We can stack two existing arrays in one, horizontally and vertically with:\n",
    "- **np.vstack((,))**\n",
    "- **np.hstack((,))**"
   ]
  },
  {
   "cell_type": "code",
   "execution_count": 50,
   "id": "exciting-boutique",
   "metadata": {},
   "outputs": [],
   "source": [
    "a1 = np.array([[1,1],\n",
    "               [2,2]])"
   ]
  },
  {
   "cell_type": "code",
   "execution_count": 51,
   "id": "double-taylor",
   "metadata": {},
   "outputs": [],
   "source": [
    "a2 = np.array([[3,3],\n",
    "               [4,4]])"
   ]
  },
  {
   "cell_type": "code",
   "execution_count": 52,
   "id": "israeli-world",
   "metadata": {},
   "outputs": [
    {
     "data": {
      "text/plain": [
       "array([[1, 1],\n",
       "       [2, 2],\n",
       "       [3, 3],\n",
       "       [4, 4]])"
      ]
     },
     "execution_count": 52,
     "metadata": {},
     "output_type": "execute_result"
    }
   ],
   "source": [
    "np.vstack((a1,a2))"
   ]
  },
  {
   "cell_type": "code",
   "execution_count": 53,
   "id": "designing-documentary",
   "metadata": {},
   "outputs": [
    {
     "data": {
      "text/plain": [
       "array([[1, 1, 3, 3],\n",
       "       [2, 2, 4, 4]])"
      ]
     },
     "execution_count": 53,
     "metadata": {},
     "output_type": "execute_result"
    }
   ],
   "source": [
    "np.hstack((a1, a2))"
   ]
  },
  {
   "cell_type": "markdown",
   "id": "hidden-choir",
   "metadata": {},
   "source": [
    "We can split an array into several smaller arrays using **hsplit**. You can specify either the number of equally shaped arrays to return or the columns after which the division should occur."
   ]
  },
  {
   "cell_type": "code",
   "execution_count": 54,
   "id": "minute-copying",
   "metadata": {},
   "outputs": [
    {
     "data": {
      "text/plain": [
       "array([[ 1,  2,  3,  4,  5,  6,  7,  8,  9, 10, 11, 12],\n",
       "       [13, 14, 15, 16, 17, 18, 19, 20, 21, 22, 23, 24]])"
      ]
     },
     "execution_count": 54,
     "metadata": {},
     "output_type": "execute_result"
    }
   ],
   "source": [
    "x = np.arange(1, 25).reshape(2, 12)\n",
    "x"
   ]
  },
  {
   "cell_type": "markdown",
   "id": "informative-today",
   "metadata": {},
   "source": [
    "If we want to split this array into three equally shaped arrays, we would run:"
   ]
  },
  {
   "cell_type": "code",
   "execution_count": 55,
   "id": "documentary-laptop",
   "metadata": {},
   "outputs": [
    {
     "data": {
      "text/plain": [
       "[array([[ 1,  2,  3,  4],\n",
       "        [13, 14, 15, 16]]),\n",
       " array([[ 5,  6,  7,  8],\n",
       "        [17, 18, 19, 20]]),\n",
       " array([[ 9, 10, 11, 12],\n",
       "        [21, 22, 23, 24]])]"
      ]
     },
     "execution_count": 55,
     "metadata": {},
     "output_type": "execute_result"
    }
   ],
   "source": [
    "np.hsplit(x, 3)"
   ]
  },
  {
   "cell_type": "markdown",
   "id": "minute-secretariat",
   "metadata": {},
   "source": [
    "If we wanted to split this array into three equally shaped arrays, we would run:"
   ]
  },
  {
   "cell_type": "code",
   "execution_count": 56,
   "id": "unexpected-desktop",
   "metadata": {},
   "outputs": [
    {
     "data": {
      "text/plain": [
       "[array([[ 1,  2,  3],\n",
       "        [13, 14, 15]]),\n",
       " array([[ 4,  5,  6],\n",
       "        [16, 17, 18]]),\n",
       " array([[ 7,  8],\n",
       "        [19, 20]]),\n",
       " array([[ 9, 10, 11, 12],\n",
       "        [21, 22, 23, 24]])]"
      ]
     },
     "execution_count": 56,
     "metadata": {},
     "output_type": "execute_result"
    }
   ],
   "source": [
    "np.hsplit(x,(3,6,8))"
   ]
  },
  {
   "cell_type": "markdown",
   "id": "informational-designation",
   "metadata": {},
   "source": [
    "We can use the **view** method to create a new array objetct that looks at the same data as the original array (a shallow copy). Views are an important NumPy concept. NumPy functions, as well as operations like indexing and slicing, will return views whenever possible. This saves memory and is faster (no copy of the data has to be made). However it's importante to be aware of this -**modify data in a view also modifies the original array!**\n",
    "\n",
    "Now we create an array **b1** by slicing **a** and modify the corresponding element in **a** as well."
   ]
  },
  {
   "cell_type": "code",
   "execution_count": 89,
   "id": "above-probability",
   "metadata": {},
   "outputs": [
    {
     "data": {
      "text/plain": [
       "array([1, 2, 3, 4])"
      ]
     },
     "execution_count": 89,
     "metadata": {},
     "output_type": "execute_result"
    }
   ],
   "source": [
    "a = np.array([[1, 2, 3, 4], [5, 6, 7, 8], [9, 10, 11, 12]])\n",
    "b1 = a[0]\n",
    "b1"
   ]
  },
  {
   "cell_type": "code",
   "execution_count": 90,
   "id": "straight-throat",
   "metadata": {},
   "outputs": [
    {
     "data": {
      "text/plain": [
       "array([99,  2,  3,  4])"
      ]
     },
     "execution_count": 90,
     "metadata": {},
     "output_type": "execute_result"
    }
   ],
   "source": [
    "b1[0] = 99\n",
    "b1"
   ]
  },
  {
   "cell_type": "code",
   "execution_count": 91,
   "id": "southeast-swimming",
   "metadata": {},
   "outputs": [
    {
     "data": {
      "text/plain": [
       "array([[99,  2,  3,  4],\n",
       "       [ 5,  6,  7,  8],\n",
       "       [ 9, 10, 11, 12]])"
      ]
     },
     "execution_count": 91,
     "metadata": {},
     "output_type": "execute_result"
    }
   ],
   "source": [
    "a"
   ]
  },
  {
   "cell_type": "markdown",
   "id": "annual-bacon",
   "metadata": {},
   "source": [
    "With copy method well make a complete copy of the array and its data (a deep copy). If we modify b2, we will not modify a"
   ]
  },
  {
   "cell_type": "code",
   "execution_count": 92,
   "id": "forbidden-insight",
   "metadata": {},
   "outputs": [
    {
     "data": {
      "text/plain": [
       "array([[ 1,  2,  3,  4],\n",
       "       [ 5,  6,  7,  8],\n",
       "       [ 9, 10, 11, 12]])"
      ]
     },
     "execution_count": 92,
     "metadata": {},
     "output_type": "execute_result"
    }
   ],
   "source": [
    "b2 = a.copy()\n",
    "b2\n",
    "b2[0,0] = 1\n",
    "b2"
   ]
  },
  {
   "cell_type": "code",
   "execution_count": 93,
   "id": "young-embassy",
   "metadata": {},
   "outputs": [
    {
     "data": {
      "text/plain": [
       "array([[99,  2,  3,  4],\n",
       "       [ 5,  6,  7,  8],\n",
       "       [ 9, 10, 11, 12]])"
      ]
     },
     "execution_count": 93,
     "metadata": {},
     "output_type": "execute_result"
    }
   ],
   "source": [
    "a"
   ]
  },
  {
   "cell_type": "markdown",
   "id": "consecutive-functionality",
   "metadata": {},
   "source": [
    " # Basic array operations.\n",
    "This section covers addition, subtraction, multiplication, division and more.\n"
   ]
  },
  {
   "cell_type": "code",
   "execution_count": 94,
   "id": "democratic-heating",
   "metadata": {},
   "outputs": [
    {
     "data": {
      "text/plain": [
       "array([2, 3])"
      ]
     },
     "execution_count": 94,
     "metadata": {},
     "output_type": "execute_result"
    }
   ],
   "source": [
    "data = np.array([1, 2])\n",
    "ones = np.ones(2, dtype = int)\n",
    "data + ones"
   ]
  },
  {
   "cell_type": "code",
   "execution_count": 95,
   "id": "actual-battle",
   "metadata": {},
   "outputs": [
    {
     "data": {
      "text/plain": [
       "array([0, 1])"
      ]
     },
     "execution_count": 95,
     "metadata": {},
     "output_type": "execute_result"
    }
   ],
   "source": [
    "data - ones"
   ]
  },
  {
   "cell_type": "code",
   "execution_count": 96,
   "id": "designed-greensboro",
   "metadata": {},
   "outputs": [
    {
     "data": {
      "text/plain": [
       "array([1, 2])"
      ]
     },
     "execution_count": 96,
     "metadata": {},
     "output_type": "execute_result"
    }
   ],
   "source": [
    "data * ones"
   ]
  },
  {
   "cell_type": "code",
   "execution_count": 97,
   "id": "occupational-litigation",
   "metadata": {},
   "outputs": [
    {
     "data": {
      "text/plain": [
       "array([1., 1.])"
      ]
     },
     "execution_count": 97,
     "metadata": {},
     "output_type": "execute_result"
    }
   ],
   "source": [
    "data / data"
   ]
  },
  {
   "cell_type": "markdown",
   "id": "confident-class",
   "metadata": {},
   "source": [
    "Basic operations are simple with NumPy. If you want to find the sum of the elements in an array , you'd use **sum()**. THis works for 1D arrays, 2D arrays, and arrays in higher dimensions."
   ]
  },
  {
   "cell_type": "code",
   "execution_count": 98,
   "id": "angry-flavor",
   "metadata": {},
   "outputs": [],
   "source": [
    "a = np.array([1, 2, 3, 4])"
   ]
  },
  {
   "cell_type": "code",
   "execution_count": 99,
   "id": "exact-screw",
   "metadata": {},
   "outputs": [
    {
     "data": {
      "text/plain": [
       "10"
      ]
     },
     "execution_count": 99,
     "metadata": {},
     "output_type": "execute_result"
    }
   ],
   "source": [
    "a.sum()"
   ]
  },
  {
   "cell_type": "markdown",
   "id": "auburn-rating",
   "metadata": {},
   "source": [
    "If we start with this array:"
   ]
  },
  {
   "cell_type": "code",
   "execution_count": 100,
   "id": "listed-reception",
   "metadata": {},
   "outputs": [],
   "source": [
    "b = np.array([[1, 1], [2, 2]])"
   ]
  },
  {
   "cell_type": "markdown",
   "id": "welsh-gazette",
   "metadata": {},
   "source": [
    "We can sum over the axis of rows or columns:"
   ]
  },
  {
   "cell_type": "code",
   "execution_count": 101,
   "id": "organized-assembly",
   "metadata": {},
   "outputs": [
    {
     "data": {
      "text/plain": [
       "array([3, 3])"
      ]
     },
     "execution_count": 101,
     "metadata": {},
     "output_type": "execute_result"
    }
   ],
   "source": [
    "b.sum(axis = 0)"
   ]
  },
  {
   "cell_type": "code",
   "execution_count": 102,
   "id": "offensive-frame",
   "metadata": {},
   "outputs": [
    {
     "data": {
      "text/plain": [
       "array([2, 4])"
      ]
     },
     "execution_count": 102,
     "metadata": {},
     "output_type": "execute_result"
    }
   ],
   "source": [
    "b.sum(axis = 1)"
   ]
  },
  {
   "cell_type": "markdown",
   "id": "inappropriate-crash",
   "metadata": {},
   "source": [
    "## Broadcasting"
   ]
  },
  {
   "cell_type": "markdown",
   "id": "challenging-arctic",
   "metadata": {},
   "source": [
    "The multiplication of each cell it's called **broadcasting**. "
   ]
  },
  {
   "cell_type": "code",
   "execution_count": 103,
   "id": "subjective-directive",
   "metadata": {},
   "outputs": [
    {
     "data": {
      "text/plain": [
       "array([1.6, 3.2])"
      ]
     },
     "execution_count": 103,
     "metadata": {},
     "output_type": "execute_result"
    }
   ],
   "source": [
    "data = np.array([1.0, 2.0])\n",
    "data * 1.6"
   ]
  },
  {
   "cell_type": "markdown",
   "id": "ranking-popularity",
   "metadata": {},
   "source": [
    " ## More useful array operations"
   ]
  },
  {
   "cell_type": "markdown",
   "id": "characteristic-channel",
   "metadata": {},
   "source": [
    "This section covers maximum, minimum, sum, mean, product, stardardd deviation, and more."
   ]
  },
  {
   "cell_type": "code",
   "execution_count": 104,
   "id": "coated-dress",
   "metadata": {},
   "outputs": [
    {
     "data": {
      "text/plain": [
       "2.0"
      ]
     },
     "execution_count": 104,
     "metadata": {},
     "output_type": "execute_result"
    }
   ],
   "source": [
    "data.max()"
   ]
  },
  {
   "cell_type": "code",
   "execution_count": 105,
   "id": "alpine-cameroon",
   "metadata": {},
   "outputs": [
    {
     "data": {
      "text/plain": [
       "1.0"
      ]
     },
     "execution_count": 105,
     "metadata": {},
     "output_type": "execute_result"
    }
   ],
   "source": [
    "data.min()"
   ]
  },
  {
   "cell_type": "code",
   "execution_count": 108,
   "id": "disturbed-helena",
   "metadata": {},
   "outputs": [
    {
     "data": {
      "text/plain": [
       "3.0"
      ]
     },
     "execution_count": 108,
     "metadata": {},
     "output_type": "execute_result"
    }
   ],
   "source": [
    "data.sum()"
   ]
  },
  {
   "cell_type": "markdown",
   "id": "protective-capability",
   "metadata": {},
   "source": [
    "Let's start with this array, called a:"
   ]
  },
  {
   "cell_type": "code",
   "execution_count": 109,
   "id": "annoying-adaptation",
   "metadata": {},
   "outputs": [],
   "source": [
    "a = np.array([[0.45053314, 0.17296777, 0.34376245, 0.5510652],\n",
    "\n",
    "              [0.54627315, 0.05093587, 0.40067661, 0.55645993],\n",
    "\n",
    "              [0.12697628, 0.82485143, 0.26590556, 0.56917101]])\n"
   ]
  },
  {
   "cell_type": "markdown",
   "id": "exceptional-position",
   "metadata": {},
   "source": [
    "By default, every NumPy aggregation function will return the aggregate of the entire array. To find the sum or the minimum of the elements in our array, run:"
   ]
  },
  {
   "cell_type": "code",
   "execution_count": 110,
   "id": "tested-instrument",
   "metadata": {},
   "outputs": [
    {
     "data": {
      "text/plain": [
       "4.8595784"
      ]
     },
     "execution_count": 110,
     "metadata": {},
     "output_type": "execute_result"
    }
   ],
   "source": [
    "a.sum()"
   ]
  },
  {
   "cell_type": "code",
   "execution_count": 111,
   "id": "radio-officer",
   "metadata": {},
   "outputs": [
    {
     "data": {
      "text/plain": [
       "0.05093587"
      ]
     },
     "execution_count": 111,
     "metadata": {},
     "output_type": "execute_result"
    }
   ],
   "source": [
    "a.min()"
   ]
  },
  {
   "cell_type": "markdown",
   "id": "applied-encoding",
   "metadata": {},
   "source": [
    "We can specify on which axis we want the aggregation function to be computed."
   ]
  },
  {
   "cell_type": "code",
   "execution_count": 115,
   "id": "dedicated-conducting",
   "metadata": {},
   "outputs": [
    {
     "data": {
      "text/plain": [
       "array([1.12378257, 1.04875507, 1.01034462, 1.67669614])"
      ]
     },
     "execution_count": 115,
     "metadata": {},
     "output_type": "execute_result"
    }
   ],
   "source": [
    "a.sum(axis = 0)"
   ]
  },
  {
   "cell_type": "code",
   "execution_count": 116,
   "id": "solid-seven",
   "metadata": {},
   "outputs": [
    {
     "data": {
      "text/plain": [
       "array([1.51832856, 1.55434556, 1.78690428])"
      ]
     },
     "execution_count": 116,
     "metadata": {},
     "output_type": "execute_result"
    }
   ],
   "source": [
    "a.sum(axis = 1)"
   ]
  },
  {
   "cell_type": "code",
   "execution_count": 117,
   "id": "union-insight",
   "metadata": {},
   "outputs": [
    {
     "data": {
      "text/plain": [
       "array([0.54627315, 0.82485143, 0.40067661, 0.56917101])"
      ]
     },
     "execution_count": 117,
     "metadata": {},
     "output_type": "execute_result"
    }
   ],
   "source": [
    "a.max(axis = 0)"
   ]
  },
  {
   "cell_type": "markdown",
   "id": "cloudy-pittsburgh",
   "metadata": {},
   "source": [
    "# Creating matrices.\n",
    "\n",
    "We can pass Python lists of list to create a 2-D array to represent them in Numpy."
   ]
  },
  {
   "cell_type": "code",
   "execution_count": 119,
   "id": "liked-unknown",
   "metadata": {},
   "outputs": [
    {
     "data": {
      "text/plain": [
       "array([[1, 2],\n",
       "       [3, 4],\n",
       "       [5, 6]])"
      ]
     },
     "execution_count": 119,
     "metadata": {},
     "output_type": "execute_result"
    }
   ],
   "source": [
    "data = np.array([[1, 2], [3, 4], [5, 6]])\n",
    "data "
   ]
  },
  {
   "cell_type": "markdown",
   "id": "expensive-governor",
   "metadata": {},
   "source": [
    "Indexing and slicing operations are useful when we're manipulating matrices:"
   ]
  },
  {
   "cell_type": "code",
   "execution_count": 120,
   "id": "collaborative-omaha",
   "metadata": {},
   "outputs": [
    {
     "data": {
      "text/plain": [
       "2"
      ]
     },
     "execution_count": 120,
     "metadata": {},
     "output_type": "execute_result"
    }
   ],
   "source": [
    "data[0, 1]"
   ]
  },
  {
   "cell_type": "code",
   "execution_count": 121,
   "id": "electoral-buddy",
   "metadata": {},
   "outputs": [
    {
     "data": {
      "text/plain": [
       "array([[3, 4],\n",
       "       [5, 6]])"
      ]
     },
     "execution_count": 121,
     "metadata": {},
     "output_type": "execute_result"
    }
   ],
   "source": [
    "data[1:3]"
   ]
  },
  {
   "cell_type": "code",
   "execution_count": 123,
   "id": "looking-transmission",
   "metadata": {},
   "outputs": [
    {
     "data": {
      "text/plain": [
       "array([5, 6])"
      ]
     },
     "execution_count": 123,
     "metadata": {},
     "output_type": "execute_result"
    }
   ],
   "source": [
    "data[2]"
   ]
  },
  {
   "cell_type": "code",
   "execution_count": 124,
   "id": "sunrise-chuck",
   "metadata": {},
   "outputs": [
    {
     "data": {
      "text/plain": [
       "array([1, 3])"
      ]
     },
     "execution_count": 124,
     "metadata": {},
     "output_type": "execute_result"
    }
   ],
   "source": [
    "data[0:2,0]"
   ]
  },
  {
   "cell_type": "markdown",
   "id": "patent-selection",
   "metadata": {},
   "source": [
    "![imagen_matrices](images/np_matrix_indexing.png)"
   ]
  },
  {
   "cell_type": "markdown",
   "id": "eleven-observer",
   "metadata": {},
   "source": [
    "We can aggregate all the values in a matrix and we can aggregate them across columns or rows using the **axis** parameter:"
   ]
  },
  {
   "cell_type": "code",
   "execution_count": 125,
   "id": "offshore-warrant",
   "metadata": {},
   "outputs": [
    {
     "data": {
      "text/plain": [
       "array([[1, 2],\n",
       "       [5, 3],\n",
       "       [4, 6]])"
      ]
     },
     "execution_count": 125,
     "metadata": {},
     "output_type": "execute_result"
    }
   ],
   "source": [
    "data = np.array([[1, 2], [5, 3], [4, 6]])\n",
    "data"
   ]
  },
  {
   "cell_type": "code",
   "execution_count": 126,
   "id": "suspended-logan",
   "metadata": {},
   "outputs": [
    {
     "data": {
      "text/plain": [
       "6"
      ]
     },
     "execution_count": 126,
     "metadata": {},
     "output_type": "execute_result"
    }
   ],
   "source": [
    "data.max()"
   ]
  },
  {
   "cell_type": "code",
   "execution_count": 127,
   "id": "advance-solid",
   "metadata": {},
   "outputs": [
    {
     "data": {
      "text/plain": [
       "1"
      ]
     },
     "execution_count": 127,
     "metadata": {},
     "output_type": "execute_result"
    }
   ],
   "source": [
    "data.min()"
   ]
  },
  {
   "cell_type": "code",
   "execution_count": 128,
   "id": "still-cincinnati",
   "metadata": {},
   "outputs": [
    {
     "data": {
      "text/plain": [
       "array([5, 6])"
      ]
     },
     "execution_count": 128,
     "metadata": {},
     "output_type": "execute_result"
    }
   ],
   "source": [
    "data.max(axis = 0)"
   ]
  },
  {
   "cell_type": "code",
   "execution_count": 131,
   "id": "jewish-matrix",
   "metadata": {},
   "outputs": [
    {
     "data": {
      "text/plain": [
       "array([2, 5, 6])"
      ]
     },
     "execution_count": 131,
     "metadata": {},
     "output_type": "execute_result"
    }
   ],
   "source": [
    "data.max(axis = 1)"
   ]
  },
  {
   "cell_type": "code",
   "execution_count": 132,
   "id": "rational-convertible",
   "metadata": {},
   "outputs": [
    {
     "data": {
      "text/plain": [
       "array([1, 2])"
      ]
     },
     "execution_count": 132,
     "metadata": {},
     "output_type": "execute_result"
    }
   ],
   "source": [
    "data.min(axis = 0)"
   ]
  },
  {
   "cell_type": "code",
   "execution_count": 133,
   "id": "concrete-moses",
   "metadata": {},
   "outputs": [
    {
     "data": {
      "text/plain": [
       "array([2, 5, 6])"
      ]
     },
     "execution_count": 133,
     "metadata": {},
     "output_type": "execute_result"
    }
   ],
   "source": [
    "data.max(axis = 1)"
   ]
  },
  {
   "cell_type": "markdown",
   "id": "characteristic-possible",
   "metadata": {},
   "source": [
    "Remember:\n",
    "- axis = 0: rows\n",
    "- axis = 1: columns"
   ]
  },
  {
   "cell_type": "markdown",
   "id": "instructional-rough",
   "metadata": {},
   "source": [
    "Once we've created our matrices, we can add and multiply them using arithmetic opertators if we have two matrices that are the same size."
   ]
  },
  {
   "cell_type": "code",
   "execution_count": null,
   "id": "moving-platinum",
   "metadata": {},
   "outputs": [],
   "source": []
  }
 ],
 "metadata": {
  "kernelspec": {
   "display_name": "Python 3",
   "language": "python",
   "name": "python3"
  },
  "language_info": {
   "codemirror_mode": {
    "name": "ipython",
    "version": 3
   },
   "file_extension": ".py",
   "mimetype": "text/x-python",
   "name": "python",
   "nbconvert_exporter": "python",
   "pygments_lexer": "ipython3",
   "version": "3.7.3"
  }
 },
 "nbformat": 4,
 "nbformat_minor": 5
}
