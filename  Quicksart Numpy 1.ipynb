{
 "cells": [
  {
   "cell_type": "markdown",
   "id": "protecting-salmon",
   "metadata": {},
   "source": [
    "# Quickstart Numpy.\n",
    "This tutorial is from [this link](https://numpy.org/devdocs/user/absolute_beginners.html)"
   ]
  },
  {
   "cell_type": "markdown",
   "id": "destroyed-nowhere",
   "metadata": {},
   "source": [
    "We import **Numpy**"
   ]
  },
  {
   "cell_type": "code",
   "execution_count": 75,
   "id": "weekly-elite",
   "metadata": {},
   "outputs": [],
   "source": [
    "import numpy as np"
   ]
  },
  {
   "cell_type": "markdown",
   "id": "available-potato",
   "metadata": {},
   "source": [
    "We can create arrays with np.array()"
   ]
  },
  {
   "cell_type": "code",
   "execution_count": 76,
   "id": "coral-knock",
   "metadata": {},
   "outputs": [
    {
     "name": "stdout",
     "output_type": "stream",
     "text": [
      "[1 2 3 4]\n",
      "1\n"
     ]
    }
   ],
   "source": [
    "a = np.array([1, 2, 3, 4])\n",
    "print(a)\n",
    "print(a[0])"
   ]
  },
  {
   "cell_type": "markdown",
   "id": "floating-geometry",
   "metadata": {},
   "source": [
    "## How to create a basic array."
   ]
  },
  {
   "cell_type": "markdown",
   "id": "regulation-entrepreneur",
   "metadata": {},
   "source": [
    "To create an array we can use multiple options:\n",
    "- np.array\n",
    "- np.zeros\n",
    "- np.ones\n",
    "- np.empty\n",
    "- np.arange\n",
    "- np.linspace"
   ]
  },
  {
   "cell_type": "code",
   "execution_count": 77,
   "id": "sufficient-halloween",
   "metadata": {},
   "outputs": [
    {
     "data": {
      "text/plain": [
       "array([[1, 2, 3, 4],\n",
       "       [3, 4, 5, 6]])"
      ]
     },
     "execution_count": 77,
     "metadata": {},
     "output_type": "execute_result"
    }
   ],
   "source": [
    "np.array([[1, 2, 3, 4],[3, 4, 5, 6]])"
   ]
  },
  {
   "cell_type": "code",
   "execution_count": 78,
   "id": "floating-layer",
   "metadata": {},
   "outputs": [
    {
     "data": {
      "text/plain": [
       "array([[[0., 0., 0.],\n",
       "        [0., 0., 0.],\n",
       "        [0., 0., 0.]],\n",
       "\n",
       "       [[0., 0., 0.],\n",
       "        [0., 0., 0.],\n",
       "        [0., 0., 0.]]])"
      ]
     },
     "execution_count": 78,
     "metadata": {},
     "output_type": "execute_result"
    }
   ],
   "source": [
    "np.zeros((2, 3, 3))"
   ]
  },
  {
   "cell_type": "code",
   "execution_count": 79,
   "id": "minor-electronics",
   "metadata": {},
   "outputs": [
    {
     "data": {
      "text/plain": [
       "array([[1., 1.],\n",
       "       [1., 1.]])"
      ]
     },
     "execution_count": 79,
     "metadata": {},
     "output_type": "execute_result"
    }
   ],
   "source": [
    "np.ones((2, 2))"
   ]
  },
  {
   "cell_type": "code",
   "execution_count": 80,
   "id": "double-boulder",
   "metadata": {},
   "outputs": [
    {
     "data": {
      "text/plain": [
       "array([[ 5.],\n",
       "       [10.]])"
      ]
     },
     "execution_count": 80,
     "metadata": {},
     "output_type": "execute_result"
    }
   ],
   "source": [
    "np.empty((2, 1))"
   ]
  },
  {
   "cell_type": "code",
   "execution_count": 81,
   "id": "classified-collective",
   "metadata": {},
   "outputs": [
    {
     "data": {
      "text/plain": [
       "array([2, 4, 6, 8])"
      ]
     },
     "execution_count": 81,
     "metadata": {},
     "output_type": "execute_result"
    }
   ],
   "source": [
    "np.arange(2, 10, 2)"
   ]
  },
  {
   "cell_type": "code",
   "execution_count": 82,
   "id": "latter-partnership",
   "metadata": {},
   "outputs": [
    {
     "data": {
      "text/plain": [
       "array([0, 1, 2, 3, 4, 5, 6, 7, 8, 9])"
      ]
     },
     "execution_count": 82,
     "metadata": {},
     "output_type": "execute_result"
    }
   ],
   "source": [
    "np.arange(10)"
   ]
  },
  {
   "cell_type": "code",
   "execution_count": 83,
   "id": "demonstrated-athletics",
   "metadata": {},
   "outputs": [
    {
     "data": {
      "text/plain": [
       "array([ 0.,  5., 10.])"
      ]
     },
     "execution_count": 83,
     "metadata": {},
     "output_type": "execute_result"
    }
   ],
   "source": [
    "np.linspace(0, 10, 3)"
   ]
  },
  {
   "cell_type": "markdown",
   "id": "mexican-township",
   "metadata": {},
   "source": [
    "## Adding, removing and sorting elements of an array."
   ]
  },
  {
   "cell_type": "markdown",
   "id": "based-anderson",
   "metadata": {},
   "source": [
    "We can sort or concatenate elements of an array with the next methods:\n",
    "- np.sort()\n",
    "- np.concatenate()"
   ]
  },
  {
   "cell_type": "code",
   "execution_count": 84,
   "id": "valid-window",
   "metadata": {},
   "outputs": [
    {
     "name": "stdout",
     "output_type": "stream",
     "text": [
      "[1 2 3 4 5 6 7 8]\n",
      "[1 2 3 4 5 6 7 8]\n"
     ]
    }
   ],
   "source": [
    "arr = np.array([2, 1, 5, 3, 7, 4, 6, 8])\n",
    "print(np.sort(arr))\n",
    "\n",
    "a = np.array([1, 2, 3, 4])\n",
    "b = np.array([5, 6, 7, 8])\n",
    "print(np.concatenate((a,b)))"
   ]
  },
  {
   "cell_type": "markdown",
   "id": "incorporate-travel",
   "metadata": {},
   "source": [
    "We can concatenate by different axes or dimensions:"
   ]
  },
  {
   "cell_type": "code",
   "execution_count": 85,
   "id": "changing-wings",
   "metadata": {},
   "outputs": [
    {
     "name": "stdout",
     "output_type": "stream",
     "text": [
      "[[1 2]\n",
      " [3 4]\n",
      " [5 6]]\n"
     ]
    }
   ],
   "source": [
    "x = np.array([[1, 2], [3, 4]])\n",
    "y = np.array([[5, 6]])\n",
    "z = np.concatenate((x, y), axis = 0)\n",
    "print(z)"
   ]
  },
  {
   "cell_type": "markdown",
   "id": "nervous-influence",
   "metadata": {},
   "source": [
    "## How do you know the shape and size of an array?\n",
    "We can use:\n",
    "- ndarray.ndim number of dimensions of the array\n",
    "- ndarray.shape: tupple with the dim of each axis\n",
    "- ndarray.size: number of total elements of the array"
   ]
  },
  {
   "cell_type": "code",
   "execution_count": 86,
   "id": "variable-newton",
   "metadata": {},
   "outputs": [
    {
     "name": "stdout",
     "output_type": "stream",
     "text": [
      "4\n",
      "(2, 2)\n",
      "2\n"
     ]
    }
   ],
   "source": [
    "print(x.size)\n",
    "print(x.shape)\n",
    "print(x.ndim)"
   ]
  },
  {
   "cell_type": "markdown",
   "id": "floating-conservation",
   "metadata": {},
   "source": [
    "## Can you reshape an array\n",
    "We can reshape with **np.reshape** or ndarray.reshape() "
   ]
  },
  {
   "cell_type": "code",
   "execution_count": 87,
   "id": "approximate-bennett",
   "metadata": {},
   "outputs": [
    {
     "name": "stdout",
     "output_type": "stream",
     "text": [
      "[0 1 2 3 4 5]\n",
      "[[0 1 2]\n",
      " [3 4 5]]\n"
     ]
    }
   ],
   "source": [
    "a = np.arange(6)\n",
    "print(a)\n",
    "b = np.reshape(a, newshape = (2, 3))\n",
    "b = a.reshape(2, 3)\n",
    "print(b)"
   ]
  },
  {
   "cell_type": "markdown",
   "id": "overall-swift",
   "metadata": {},
   "source": [
    "## How to convert an array of 1D to 2D."
   ]
  },
  {
   "cell_type": "markdown",
   "id": "wrong-carolina",
   "metadata": {},
   "source": [
    "We can do it with two manners: \n",
    "- np.newaxis\n",
    "- np.expand_dims"
   ]
  },
  {
   "cell_type": "code",
   "execution_count": 88,
   "id": "identical-execution",
   "metadata": {},
   "outputs": [
    {
     "name": "stdout",
     "output_type": "stream",
     "text": [
      "[1 2 3 4 5 6]\n",
      "[[1 2 3 4 5 6]]\n",
      "(1, 6)\n",
      "(6, 1)\n",
      "(1, 6)\n"
     ]
    }
   ],
   "source": [
    "a = np.array([1, 2, 3, 4, 5, 6])\n",
    "print(a)\n",
    "a2 = a[np.newaxis, :]\n",
    "a3 = a[:, np.newaxis]\n",
    "print(a2)\n",
    "print(a2.shape)\n",
    "print(a3.shape)\n",
    "c = np.expand_dims(a, axis = 0)\n",
    "print(c.shape)"
   ]
  },
  {
   "cell_type": "markdown",
   "id": "alien-grounds",
   "metadata": {},
   "source": [
    "## Indexing and slicing."
   ]
  },
  {
   "cell_type": "markdown",
   "id": "secure-surname",
   "metadata": {},
   "source": [
    "We have some examples:"
   ]
  },
  {
   "cell_type": "code",
   "execution_count": 89,
   "id": "sound-chance",
   "metadata": {},
   "outputs": [
    {
     "name": "stdout",
     "output_type": "stream",
     "text": [
      "2\n",
      "[1 2]\n",
      "[2 3]\n",
      "[2 3]\n"
     ]
    }
   ],
   "source": [
    "data = np.array([1, 2, 3])\n",
    "print(data[1])\n",
    "print(data[0:2])\n",
    "print(data[1:])\n",
    "print(data[-2:])"
   ]
  },
  {
   "cell_type": "markdown",
   "id": "alleged-aircraft",
   "metadata": {},
   "source": [
    "We can visualize it this way:\n",
    "![imagen](images/np_indexing.png)"
   ]
  },
  {
   "cell_type": "markdown",
   "id": "divine-valuation",
   "metadata": {},
   "source": [
    "If we wante to select values from your array that fulfill certain conditions,it's straightforfward with Numpy"
   ]
  },
  {
   "cell_type": "code",
   "execution_count": 68,
   "id": "annoying-sodium",
   "metadata": {},
   "outputs": [],
   "source": [
    "a = np.array([[1 , 2, 3, 4], [5, 6, 7, 8], [9, 10, 11, 12]])"
   ]
  },
  {
   "cell_type": "markdown",
   "id": "genuine-doubt",
   "metadata": {},
   "source": [
    "print(a[a < 6])"
   ]
  },
  {
   "cell_type": "markdown",
   "id": "instructional-anger",
   "metadata": {},
   "source": [
    "We can select, for example, number that are equal to or greater than 5, and use that condition to index an array."
   ]
  },
  {
   "cell_type": "code",
   "execution_count": 72,
   "id": "speaking-filing",
   "metadata": {},
   "outputs": [
    {
     "name": "stdout",
     "output_type": "stream",
     "text": [
      "[[False False False False]\n",
      " [ True  True  True  True]\n",
      " [ True  True  True  True]]\n",
      "[ 5  6  7  8  9 10 11 12]\n"
     ]
    }
   ],
   "source": [
    "five_up = (a >= 5)\n",
    "print(five_up)\n",
    "print(a[five_up])"
   ]
  },
  {
   "cell_type": "markdown",
   "id": "cosmetic-storm",
   "metadata": {},
   "source": [
    "We can select elements that are divisible by 2:"
   ]
  },
  {
   "cell_type": "code",
   "execution_count": 73,
   "id": "corrected-enforcement",
   "metadata": {},
   "outputs": [],
   "source": [
    "divisible_by_2 = a[a % 2 == 0]"
   ]
  },
  {
   "cell_type": "code",
   "execution_count": 74,
   "id": "union-rainbow",
   "metadata": {},
   "outputs": [
    {
     "name": "stdout",
     "output_type": "stream",
     "text": [
      "[ 2  4  6  8 10 12]\n"
     ]
    }
   ],
   "source": [
    "print(divisible_by_2)"
   ]
  },
  {
   "cell_type": "raw",
   "id": "massive-anniversary",
   "metadata": {},
   "source": [
    "Or we can select elements that satisfy two conditions at the same time using & and |:"
   ]
  },
  {
   "cell_type": "code",
   "execution_count": null,
   "id": "spread-brush",
   "metadata": {},
   "outputs": [],
   "source": []
  }
 ],
 "metadata": {
  "kernelspec": {
   "display_name": "Python 3",
   "language": "python",
   "name": "python3"
  },
  "language_info": {
   "codemirror_mode": {
    "name": "ipython",
    "version": 3
   },
   "file_extension": ".py",
   "mimetype": "text/x-python",
   "name": "python",
   "nbconvert_exporter": "python",
   "pygments_lexer": "ipython3",
   "version": "3.7.3"
  }
 },
 "nbformat": 4,
 "nbformat_minor": 5
}
