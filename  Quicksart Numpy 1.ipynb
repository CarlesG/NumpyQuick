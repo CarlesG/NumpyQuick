{
 "cells": [
  {
   "cell_type": "markdown",
   "id": "protecting-salmon",
   "metadata": {},
   "source": [
    "# Quickstart Numpy.\n",
    "This tutorial is from [this link](https://numpy.org/devdocs/user/absolute_beginners.html)"
   ]
  },
  {
   "cell_type": "markdown",
   "id": "destroyed-nowhere",
   "metadata": {},
   "source": [
    "We import **Numpy**"
   ]
  },
  {
   "cell_type": "code",
   "execution_count": 2,
   "id": "weekly-elite",
   "metadata": {},
   "outputs": [],
   "source": [
    "import numpy as np"
   ]
  },
  {
   "cell_type": "markdown",
   "id": "available-potato",
   "metadata": {},
   "source": [
    "We can create arrays with np.array()"
   ]
  },
  {
   "cell_type": "code",
   "execution_count": 3,
   "id": "coral-knock",
   "metadata": {},
   "outputs": [
    {
     "name": "stdout",
     "output_type": "stream",
     "text": [
      "[1 2 3 4]\n",
      "1\n"
     ]
    }
   ],
   "source": [
    "a = np.array([1, 2, 3, 4])\n",
    "print(a)\n",
    "print(a[0])"
   ]
  },
  {
   "cell_type": "markdown",
   "id": "floating-geometry",
   "metadata": {},
   "source": [
    "## How to create a basic array."
   ]
  },
  {
   "cell_type": "markdown",
   "id": "regulation-entrepreneur",
   "metadata": {},
   "source": [
    "To create an array we can use multiple options:\n",
    "- np.array\n",
    "- np.zeros\n",
    "- np.ones\n",
    "- np.empty\n",
    "- np.arange\n",
    "- np.linspace"
   ]
  },
  {
   "cell_type": "code",
   "execution_count": 4,
   "id": "sufficient-halloween",
   "metadata": {},
   "outputs": [
    {
     "data": {
      "text/plain": [
       "array([[1, 2, 3, 4],\n",
       "       [3, 4, 5, 6]])"
      ]
     },
     "execution_count": 4,
     "metadata": {},
     "output_type": "execute_result"
    }
   ],
   "source": [
    "np.array([[1, 2, 3, 4],[3, 4, 5, 6]])"
   ]
  },
  {
   "cell_type": "code",
   "execution_count": 5,
   "id": "floating-layer",
   "metadata": {},
   "outputs": [
    {
     "data": {
      "text/plain": [
       "array([[[0., 0., 0.],\n",
       "        [0., 0., 0.],\n",
       "        [0., 0., 0.]],\n",
       "\n",
       "       [[0., 0., 0.],\n",
       "        [0., 0., 0.],\n",
       "        [0., 0., 0.]]])"
      ]
     },
     "execution_count": 5,
     "metadata": {},
     "output_type": "execute_result"
    }
   ],
   "source": [
    "np.zeros((2, 3, 3))"
   ]
  },
  {
   "cell_type": "code",
   "execution_count": 6,
   "id": "minor-electronics",
   "metadata": {},
   "outputs": [
    {
     "data": {
      "text/plain": [
       "array([[1., 1.],\n",
       "       [1., 1.]])"
      ]
     },
     "execution_count": 6,
     "metadata": {},
     "output_type": "execute_result"
    }
   ],
   "source": [
    "np.ones((2, 2))"
   ]
  },
  {
   "cell_type": "code",
   "execution_count": 7,
   "id": "double-boulder",
   "metadata": {},
   "outputs": [
    {
     "data": {
      "text/plain": [
       "array([[-5.73021895e-300],\n",
       "       [ 8.04338871e-320]])"
      ]
     },
     "execution_count": 7,
     "metadata": {},
     "output_type": "execute_result"
    }
   ],
   "source": [
    "np.empty((2, 1))"
   ]
  },
  {
   "cell_type": "code",
   "execution_count": 8,
   "id": "classified-collective",
   "metadata": {},
   "outputs": [
    {
     "data": {
      "text/plain": [
       "array([2, 4, 6, 8])"
      ]
     },
     "execution_count": 8,
     "metadata": {},
     "output_type": "execute_result"
    }
   ],
   "source": [
    "np.arange(2, 10, 2)"
   ]
  },
  {
   "cell_type": "code",
   "execution_count": 9,
   "id": "latter-partnership",
   "metadata": {},
   "outputs": [
    {
     "data": {
      "text/plain": [
       "array([0, 1, 2, 3, 4, 5, 6, 7, 8, 9])"
      ]
     },
     "execution_count": 9,
     "metadata": {},
     "output_type": "execute_result"
    }
   ],
   "source": [
    "np.arange(10)"
   ]
  },
  {
   "cell_type": "code",
   "execution_count": 10,
   "id": "demonstrated-athletics",
   "metadata": {},
   "outputs": [
    {
     "data": {
      "text/plain": [
       "array([ 0.,  5., 10.])"
      ]
     },
     "execution_count": 10,
     "metadata": {},
     "output_type": "execute_result"
    }
   ],
   "source": [
    "np.linspace(0, 10, 3)"
   ]
  },
  {
   "cell_type": "markdown",
   "id": "mexican-township",
   "metadata": {},
   "source": [
    "## Adding, removing and sorting elements of an array."
   ]
  },
  {
   "cell_type": "markdown",
   "id": "based-anderson",
   "metadata": {},
   "source": [
    "We can sort or concatenate elements of an array with the next methods:\n",
    "- np.sort()\n",
    "- np.concatenate()"
   ]
  },
  {
   "cell_type": "code",
   "execution_count": 11,
   "id": "valid-window",
   "metadata": {},
   "outputs": [
    {
     "name": "stdout",
     "output_type": "stream",
     "text": [
      "[1 2 3 4 5 6 7 8]\n",
      "[1 2 3 4 5 6 7 8]\n"
     ]
    }
   ],
   "source": [
    "arr = np.array([2, 1, 5, 3, 7, 4, 6, 8])\n",
    "print(np.sort(arr))\n",
    "\n",
    "a = np.array([1, 2, 3, 4])\n",
    "b = np.array([5, 6, 7, 8])\n",
    "print(np.concatenate((a,b)))"
   ]
  },
  {
   "cell_type": "markdown",
   "id": "incorporate-travel",
   "metadata": {},
   "source": [
    "We can concatenate by different axes or dimensions:"
   ]
  },
  {
   "cell_type": "code",
   "execution_count": 12,
   "id": "changing-wings",
   "metadata": {},
   "outputs": [
    {
     "name": "stdout",
     "output_type": "stream",
     "text": [
      "[[1 2]\n",
      " [3 4]\n",
      " [5 6]]\n"
     ]
    }
   ],
   "source": [
    "x = np.array([[1, 2], [3, 4]])\n",
    "y = np.array([[5, 6]])\n",
    "z = np.concatenate((x, y), axis = 0)\n",
    "print(z)"
   ]
  },
  {
   "cell_type": "markdown",
   "id": "nervous-influence",
   "metadata": {},
   "source": [
    "## How do you know the shape and size of an array?\n",
    "We can use:\n",
    "- ndarray.ndim number of dimensions of the array\n",
    "- ndarray.shape: tupple with the dim of each axis\n",
    "- ndarray.size: number of total elements of the array"
   ]
  },
  {
   "cell_type": "code",
   "execution_count": 13,
   "id": "variable-newton",
   "metadata": {},
   "outputs": [
    {
     "name": "stdout",
     "output_type": "stream",
     "text": [
      "4\n",
      "(2, 2)\n",
      "2\n"
     ]
    }
   ],
   "source": [
    "print(x.size)\n",
    "print(x.shape)\n",
    "print(x.ndim)"
   ]
  },
  {
   "cell_type": "markdown",
   "id": "floating-conservation",
   "metadata": {},
   "source": [
    "## Can you reshape an array\n",
    "We can reshape with **np.reshape** or **ndarray.reshape()**: "
   ]
  },
  {
   "cell_type": "code",
   "execution_count": 14,
   "id": "approximate-bennett",
   "metadata": {},
   "outputs": [
    {
     "name": "stdout",
     "output_type": "stream",
     "text": [
      "[0 1 2 3 4 5]\n",
      "[[0 1 2]\n",
      " [3 4 5]]\n"
     ]
    }
   ],
   "source": [
    "a = np.arange(6)\n",
    "print(a)\n",
    "b = np.reshape(a, newshape = (2, 3))\n",
    "b = a.reshape(2, 3)\n",
    "print(b)"
   ]
  },
  {
   "cell_type": "markdown",
   "id": "overall-swift",
   "metadata": {},
   "source": [
    "## How to convert an array of 1D to 2D."
   ]
  },
  {
   "cell_type": "markdown",
   "id": "wrong-carolina",
   "metadata": {},
   "source": [
    "We can do it with two manners: \n",
    "- np.newaxis\n",
    "- np.expand_dims"
   ]
  },
  {
   "cell_type": "code",
   "execution_count": 15,
   "id": "identical-execution",
   "metadata": {},
   "outputs": [
    {
     "name": "stdout",
     "output_type": "stream",
     "text": [
      "[1 2 3 4 5 6]\n",
      "[[1 2 3 4 5 6]]\n",
      "(1, 6)\n",
      "(6, 1)\n",
      "(1, 6)\n"
     ]
    }
   ],
   "source": [
    "a = np.array([1, 2, 3, 4, 5, 6])\n",
    "print(a)\n",
    "a2 = a[np.newaxis, :]\n",
    "a3 = a[:, np.newaxis]\n",
    "print(a2)\n",
    "print(a2.shape)\n",
    "print(a3.shape)\n",
    "c = np.expand_dims(a, axis = 0)\n",
    "print(c.shape)"
   ]
  },
  {
   "cell_type": "markdown",
   "id": "alien-grounds",
   "metadata": {},
   "source": [
    "## Indexing and slicing."
   ]
  },
  {
   "cell_type": "markdown",
   "id": "secure-surname",
   "metadata": {},
   "source": [
    "We have some examples:"
   ]
  },
  {
   "cell_type": "code",
   "execution_count": 16,
   "id": "sound-chance",
   "metadata": {},
   "outputs": [
    {
     "name": "stdout",
     "output_type": "stream",
     "text": [
      "2\n",
      "[1 2]\n",
      "[2 3]\n",
      "[2 3]\n"
     ]
    }
   ],
   "source": [
    "data = np.array([1, 2, 3])\n",
    "print(data[1])\n",
    "print(data[0:2])\n",
    "print(data[1:])\n",
    "print(data[-2:])"
   ]
  },
  {
   "cell_type": "markdown",
   "id": "alleged-aircraft",
   "metadata": {},
   "source": [
    "We can visualize it this way:\n",
    "![imagen](images/np_indexing.png)"
   ]
  },
  {
   "cell_type": "markdown",
   "id": "divine-valuation",
   "metadata": {},
   "source": [
    "If we wante to select values from your array that fulfill certain conditions,it's straightforfward with Numpy"
   ]
  },
  {
   "cell_type": "code",
   "execution_count": 17,
   "id": "annoying-sodium",
   "metadata": {},
   "outputs": [],
   "source": [
    "a = np.array([[1 , 2, 3, 4], [5, 6, 7, 8], [9, 10, 11, 12]])"
   ]
  },
  {
   "cell_type": "markdown",
   "id": "genuine-doubt",
   "metadata": {},
   "source": [
    "print(a[a < 6])"
   ]
  },
  {
   "cell_type": "markdown",
   "id": "instructional-anger",
   "metadata": {},
   "source": [
    "We can select, for example, number that are equal to or greater than 5, and use that condition to index an array."
   ]
  },
  {
   "cell_type": "code",
   "execution_count": 18,
   "id": "speaking-filing",
   "metadata": {},
   "outputs": [
    {
     "name": "stdout",
     "output_type": "stream",
     "text": [
      "[[False False False False]\n",
      " [ True  True  True  True]\n",
      " [ True  True  True  True]]\n",
      "[ 5  6  7  8  9 10 11 12]\n"
     ]
    }
   ],
   "source": [
    "five_up = (a >= 5)\n",
    "print(five_up)\n",
    "print(a[five_up])"
   ]
  },
  {
   "cell_type": "markdown",
   "id": "cosmetic-storm",
   "metadata": {},
   "source": [
    "We can select elements that are divisible by 2:"
   ]
  },
  {
   "cell_type": "code",
   "execution_count": 19,
   "id": "corrected-enforcement",
   "metadata": {},
   "outputs": [],
   "source": [
    "divisible_by_2 = a[a % 2 == 0]"
   ]
  },
  {
   "cell_type": "code",
   "execution_count": 20,
   "id": "union-rainbow",
   "metadata": {},
   "outputs": [
    {
     "name": "stdout",
     "output_type": "stream",
     "text": [
      "[ 2  4  6  8 10 12]\n"
     ]
    }
   ],
   "source": [
    "print(divisible_by_2)"
   ]
  },
  {
   "cell_type": "raw",
   "id": "massive-anniversary",
   "metadata": {},
   "source": [
    "Or we can select elements that satisfy two conditions at the same time using & and |:"
   ]
  },
  {
   "cell_type": "code",
   "execution_count": 21,
   "id": "spread-brush",
   "metadata": {},
   "outputs": [
    {
     "name": "stdout",
     "output_type": "stream",
     "text": [
      "[ 3  4  5  6  7  8  9 10]\n"
     ]
    }
   ],
   "source": [
    "c = a[(a > 2) & (a < 11)]\n",
    "print(c)"
   ]
  },
  {
   "cell_type": "code",
   "execution_count": 22,
   "id": "lightweight-logan",
   "metadata": {},
   "outputs": [
    {
     "name": "stdout",
     "output_type": "stream",
     "text": [
      "[[ 1  2  3  4]\n",
      " [ 5  6  7  8]\n",
      " [ 9 10 11 12]]\n"
     ]
    }
   ],
   "source": [
    "a = np.array([[1, 2, 3, 4], [5, 6, 7, 8], [9, 10, 11, 12]])\n",
    "print(a)"
   ]
  },
  {
   "cell_type": "markdown",
   "id": "personal-causing",
   "metadata": {},
   "source": [
    "We can use **_np.nonzero()_** to print indices of elements that are, for example, less than 5:"
   ]
  },
  {
   "cell_type": "code",
   "execution_count": 23,
   "id": "decent-international",
   "metadata": {},
   "outputs": [
    {
     "name": "stdout",
     "output_type": "stream",
     "text": [
      "(array([0, 0, 0, 0]), array([0, 1, 2, 3]))\n"
     ]
    }
   ],
   "source": [
    "b = np.nonzero(a < 5)\n",
    "print(b)"
   ]
  },
  {
   "cell_type": "markdown",
   "id": "opened-restaurant",
   "metadata": {},
   "source": [
    "In this example, a tuple of arrays was returned, one for each dimension. The firts array represents the row indices where the values are found, and the second array represents the columns.\n",
    "\n",
    "If we want to generate a list of coordinates, we can zip the arrays, iterate over the list of coordinates and print them. For example:"
   ]
  },
  {
   "cell_type": "code",
   "execution_count": 24,
   "id": "controlled-lotus",
   "metadata": {},
   "outputs": [
    {
     "name": "stdout",
     "output_type": "stream",
     "text": [
      "[(0, 0), (0, 1), (0, 2), (0, 3)]\n"
     ]
    }
   ],
   "source": [
    "list_of_coordinates = list(zip(b[0],b[1]))\n",
    "print(list_of_coordinates)"
   ]
  },
  {
   "cell_type": "code",
   "execution_count": 25,
   "id": "breathing-separation",
   "metadata": {},
   "outputs": [
    {
     "name": "stdout",
     "output_type": "stream",
     "text": [
      "(0, 0)\n",
      "(0, 1)\n",
      "(0, 2)\n",
      "(0, 3)\n"
     ]
    }
   ],
   "source": [
    "for coord in list_of_coordinates:\n",
    "    print(coord)"
   ]
  },
  {
   "cell_type": "markdown",
   "id": "supported-array",
   "metadata": {},
   "source": [
    "We can also use np.nonzero() to print the elements in an array that are less than 5:\n"
   ]
  },
  {
   "cell_type": "code",
   "execution_count": 26,
   "id": "sensitive-accessory",
   "metadata": {},
   "outputs": [
    {
     "name": "stdout",
     "output_type": "stream",
     "text": [
      "[1 2 3 4]\n"
     ]
    }
   ],
   "source": [
    "print(a[b])"
   ]
  },
  {
   "cell_type": "markdown",
   "id": "raised-generator",
   "metadata": {},
   "source": [
    "If the element you're looking for doesn't exist in the array, then the returned array of indices will be empty. For example:"
   ]
  },
  {
   "cell_type": "code",
   "execution_count": 27,
   "id": "requested-falls",
   "metadata": {},
   "outputs": [
    {
     "name": "stdout",
     "output_type": "stream",
     "text": [
      "(array([], dtype=int64), array([], dtype=int64))\n"
     ]
    }
   ],
   "source": [
    "not_there = np.nonzero(a == 42)\n",
    "print(not_there)"
   ]
  },
  {
   "cell_type": "markdown",
   "id": "charming-prophet",
   "metadata": {},
   "source": [
    "## How to create an array from existing data.\n",
    "We can easily create a new array from a section of an existing array"
   ]
  },
  {
   "cell_type": "code",
   "execution_count": 28,
   "id": "through-information",
   "metadata": {},
   "outputs": [],
   "source": [
    "a = np.array([1,  2,  3,  4,  5,  6,  7,  8,  9, 10])"
   ]
  },
  {
   "cell_type": "markdown",
   "id": "worthy-comparative",
   "metadata": {},
   "source": [
    "We can slice it:"
   ]
  },
  {
   "cell_type": "code",
   "execution_count": 29,
   "id": "alleged-section",
   "metadata": {},
   "outputs": [
    {
     "data": {
      "text/plain": [
       "array([4, 5, 6, 7, 8])"
      ]
     },
     "execution_count": 29,
     "metadata": {},
     "output_type": "execute_result"
    }
   ],
   "source": [
    "arr1 = a[3:8]\n",
    "arr1"
   ]
  },
  {
   "cell_type": "markdown",
   "id": "turkish-sphere",
   "metadata": {},
   "source": [
    "We can stack two existing arrays in one, horizontally and vertically with:\n",
    "- **np.vstack((,))**\n",
    "- **np.hstack((,))**"
   ]
  },
  {
   "cell_type": "code",
   "execution_count": 30,
   "id": "exciting-boutique",
   "metadata": {},
   "outputs": [],
   "source": [
    "a1 = np.array([[1,1],\n",
    "               [2,2]])"
   ]
  },
  {
   "cell_type": "code",
   "execution_count": 31,
   "id": "respiratory-hypothetical",
   "metadata": {},
   "outputs": [],
   "source": [
    "a2 = np.array([[3,3],\n",
    "               [4,4]])"
   ]
  },
  {
   "cell_type": "code",
   "execution_count": 32,
   "id": "discrete-agriculture",
   "metadata": {},
   "outputs": [
    {
     "data": {
      "text/plain": [
       "array([[1, 1],\n",
       "       [2, 2],\n",
       "       [3, 3],\n",
       "       [4, 4]])"
      ]
     },
     "execution_count": 32,
     "metadata": {},
     "output_type": "execute_result"
    }
   ],
   "source": [
    "np.vstack((a1,a2))"
   ]
  },
  {
   "cell_type": "code",
   "execution_count": 33,
   "id": "floppy-district",
   "metadata": {},
   "outputs": [
    {
     "data": {
      "text/plain": [
       "array([[1, 1, 3, 3],\n",
       "       [2, 2, 4, 4]])"
      ]
     },
     "execution_count": 33,
     "metadata": {},
     "output_type": "execute_result"
    }
   ],
   "source": [
    "np.hstack((a1, a2))"
   ]
  },
  {
   "cell_type": "markdown",
   "id": "retired-fraction",
   "metadata": {},
   "source": [
    "We can split an array into several smaller arrays using **hsplit**. You can specify either the number of equally shaped arrays to return or the columns after which the division should occur."
   ]
  },
  {
   "cell_type": "code",
   "execution_count": 34,
   "id": "contained-abraham",
   "metadata": {},
   "outputs": [
    {
     "data": {
      "text/plain": [
       "array([[ 1,  2,  3,  4,  5,  6,  7,  8,  9, 10, 11, 12],\n",
       "       [13, 14, 15, 16, 17, 18, 19, 20, 21, 22, 23, 24]])"
      ]
     },
     "execution_count": 34,
     "metadata": {},
     "output_type": "execute_result"
    }
   ],
   "source": [
    "x = np.arange(1, 25).reshape(2, 12)\n",
    "x"
   ]
  },
  {
   "cell_type": "markdown",
   "id": "compatible-bangladesh",
   "metadata": {},
   "source": [
    "If we want to split this array into three equally shaped arrays, we would run:"
   ]
  },
  {
   "cell_type": "code",
   "execution_count": 35,
   "id": "civic-cosmetic",
   "metadata": {},
   "outputs": [
    {
     "data": {
      "text/plain": [
       "[array([[ 1,  2,  3,  4],\n",
       "        [13, 14, 15, 16]]),\n",
       " array([[ 5,  6,  7,  8],\n",
       "        [17, 18, 19, 20]]),\n",
       " array([[ 9, 10, 11, 12],\n",
       "        [21, 22, 23, 24]])]"
      ]
     },
     "execution_count": 35,
     "metadata": {},
     "output_type": "execute_result"
    }
   ],
   "source": [
    "np.hsplit(x, 3)"
   ]
  },
  {
   "cell_type": "markdown",
   "id": "flush-apollo",
   "metadata": {},
   "source": [
    "If we wanted to split this array into three equally shaped arrays, we would run:"
   ]
  },
  {
   "cell_type": "code",
   "execution_count": 36,
   "id": "french-illustration",
   "metadata": {},
   "outputs": [
    {
     "data": {
      "text/plain": [
       "[array([[ 1,  2,  3],\n",
       "        [13, 14, 15]]),\n",
       " array([[ 4,  5,  6],\n",
       "        [16, 17, 18]]),\n",
       " array([[ 7,  8],\n",
       "        [19, 20]]),\n",
       " array([[ 9, 10, 11, 12],\n",
       "        [21, 22, 23, 24]])]"
      ]
     },
     "execution_count": 36,
     "metadata": {},
     "output_type": "execute_result"
    }
   ],
   "source": [
    "np.hsplit(x,(3,6,8))"
   ]
  },
  {
   "cell_type": "markdown",
   "id": "simple-brush",
   "metadata": {},
   "source": [
    "We can use the **view** method to create a new array objetct that looks at the same data as the original array (a shallow copy). Views are an important NumPy concept. NumPy functions, as well as operations like indexing and slicing, will return views whenever possible. This saves memory and is faster (no copy of the data has to be made). However it's importante to be aware of this -**modify data in a view also modifies the original array!**\n",
    "\n",
    "Now we create an array **b1** by slicing **a** and modify the corresponding element in **a** as well."
   ]
  },
  {
   "cell_type": "code",
   "execution_count": 37,
   "id": "competent-mining",
   "metadata": {},
   "outputs": [
    {
     "data": {
      "text/plain": [
       "array([1, 2, 3, 4])"
      ]
     },
     "execution_count": 37,
     "metadata": {},
     "output_type": "execute_result"
    }
   ],
   "source": [
    "a = np.array([[1, 2, 3, 4], [5, 6, 7, 8], [9, 10, 11, 12]])\n",
    "b1 = a[0]\n",
    "b1"
   ]
  },
  {
   "cell_type": "code",
   "execution_count": 38,
   "id": "adopted-toyota",
   "metadata": {},
   "outputs": [
    {
     "data": {
      "text/plain": [
       "array([99,  2,  3,  4])"
      ]
     },
     "execution_count": 38,
     "metadata": {},
     "output_type": "execute_result"
    }
   ],
   "source": [
    "b1[0] = 99\n",
    "b1"
   ]
  },
  {
   "cell_type": "code",
   "execution_count": 39,
   "id": "incoming-candy",
   "metadata": {},
   "outputs": [
    {
     "data": {
      "text/plain": [
       "array([[99,  2,  3,  4],\n",
       "       [ 5,  6,  7,  8],\n",
       "       [ 9, 10, 11, 12]])"
      ]
     },
     "execution_count": 39,
     "metadata": {},
     "output_type": "execute_result"
    }
   ],
   "source": [
    "a"
   ]
  },
  {
   "cell_type": "markdown",
   "id": "occupational-mineral",
   "metadata": {},
   "source": [
    "With copy method well make a complete copy of the array and its data (a deep copy). If we modify b2, we will not modify a"
   ]
  },
  {
   "cell_type": "code",
   "execution_count": 40,
   "id": "affiliated-hearts",
   "metadata": {},
   "outputs": [
    {
     "data": {
      "text/plain": [
       "array([[ 1,  2,  3,  4],\n",
       "       [ 5,  6,  7,  8],\n",
       "       [ 9, 10, 11, 12]])"
      ]
     },
     "execution_count": 40,
     "metadata": {},
     "output_type": "execute_result"
    }
   ],
   "source": [
    "b2 = a.copy()\n",
    "b2\n",
    "b2[0,0] = 1\n",
    "b2"
   ]
  },
  {
   "cell_type": "code",
   "execution_count": 41,
   "id": "subsequent-butler",
   "metadata": {},
   "outputs": [
    {
     "data": {
      "text/plain": [
       "array([[99,  2,  3,  4],\n",
       "       [ 5,  6,  7,  8],\n",
       "       [ 9, 10, 11, 12]])"
      ]
     },
     "execution_count": 41,
     "metadata": {},
     "output_type": "execute_result"
    }
   ],
   "source": [
    "a"
   ]
  },
  {
   "cell_type": "markdown",
   "id": "comfortable-slave",
   "metadata": {},
   "source": [
    " # Basic array operations.\n",
    "This section covers addition, subtraction, multiplication, division and more.\n"
   ]
  },
  {
   "cell_type": "code",
   "execution_count": 42,
   "id": "invisible-personality",
   "metadata": {},
   "outputs": [
    {
     "data": {
      "text/plain": [
       "array([2, 3])"
      ]
     },
     "execution_count": 42,
     "metadata": {},
     "output_type": "execute_result"
    }
   ],
   "source": [
    "data = np.array([1, 2])\n",
    "ones = np.ones(2, dtype = int)\n",
    "data + ones"
   ]
  },
  {
   "cell_type": "code",
   "execution_count": 43,
   "id": "progressive-istanbul",
   "metadata": {},
   "outputs": [
    {
     "data": {
      "text/plain": [
       "array([0, 1])"
      ]
     },
     "execution_count": 43,
     "metadata": {},
     "output_type": "execute_result"
    }
   ],
   "source": [
    "data - ones"
   ]
  },
  {
   "cell_type": "code",
   "execution_count": 44,
   "id": "compatible-scottish",
   "metadata": {},
   "outputs": [
    {
     "data": {
      "text/plain": [
       "array([1, 2])"
      ]
     },
     "execution_count": 44,
     "metadata": {},
     "output_type": "execute_result"
    }
   ],
   "source": [
    "data * ones"
   ]
  },
  {
   "cell_type": "code",
   "execution_count": 45,
   "id": "standing-perception",
   "metadata": {},
   "outputs": [
    {
     "data": {
      "text/plain": [
       "array([1., 1.])"
      ]
     },
     "execution_count": 45,
     "metadata": {},
     "output_type": "execute_result"
    }
   ],
   "source": [
    "data / data"
   ]
  },
  {
   "cell_type": "markdown",
   "id": "patient-weight",
   "metadata": {},
   "source": [
    "Basic operations are simple with NumPy. If you want to find the sum of the elements in an array , you'd use **sum()**. THis works for 1D arrays, 2D arrays, and arrays in higher dimensions."
   ]
  },
  {
   "cell_type": "code",
   "execution_count": 46,
   "id": "honey-kelly",
   "metadata": {},
   "outputs": [],
   "source": [
    "a = np.array([1, 2, 3, 4])"
   ]
  },
  {
   "cell_type": "code",
   "execution_count": 47,
   "id": "atlantic-secondary",
   "metadata": {},
   "outputs": [
    {
     "data": {
      "text/plain": [
       "10"
      ]
     },
     "execution_count": 47,
     "metadata": {},
     "output_type": "execute_result"
    }
   ],
   "source": [
    "a.sum()"
   ]
  },
  {
   "cell_type": "markdown",
   "id": "hired-postcard",
   "metadata": {},
   "source": [
    "If we start with this array:"
   ]
  },
  {
   "cell_type": "code",
   "execution_count": 48,
   "id": "conscious-advocacy",
   "metadata": {},
   "outputs": [],
   "source": [
    "b = np.array([[1, 1], [2, 2]])"
   ]
  },
  {
   "cell_type": "markdown",
   "id": "driving-universal",
   "metadata": {},
   "source": [
    "We can sum over the axis of rows or columns:"
   ]
  },
  {
   "cell_type": "code",
   "execution_count": 49,
   "id": "controversial-finding",
   "metadata": {},
   "outputs": [
    {
     "data": {
      "text/plain": [
       "array([3, 3])"
      ]
     },
     "execution_count": 49,
     "metadata": {},
     "output_type": "execute_result"
    }
   ],
   "source": [
    "b.sum(axis = 0)"
   ]
  },
  {
   "cell_type": "code",
   "execution_count": 50,
   "id": "pregnant-dividend",
   "metadata": {},
   "outputs": [
    {
     "data": {
      "text/plain": [
       "array([2, 4])"
      ]
     },
     "execution_count": 50,
     "metadata": {},
     "output_type": "execute_result"
    }
   ],
   "source": [
    "b.sum(axis = 1)"
   ]
  },
  {
   "cell_type": "markdown",
   "id": "dependent-support",
   "metadata": {},
   "source": [
    "## Broadcasting"
   ]
  },
  {
   "cell_type": "markdown",
   "id": "printable-voice",
   "metadata": {},
   "source": [
    "The multiplication of each cell it's called **broadcasting**. "
   ]
  },
  {
   "cell_type": "code",
   "execution_count": 51,
   "id": "million-mistake",
   "metadata": {},
   "outputs": [
    {
     "data": {
      "text/plain": [
       "array([1.6, 3.2])"
      ]
     },
     "execution_count": 51,
     "metadata": {},
     "output_type": "execute_result"
    }
   ],
   "source": [
    "data = np.array([1.0, 2.0])\n",
    "data * 1.6"
   ]
  },
  {
   "cell_type": "markdown",
   "id": "dressed-smile",
   "metadata": {},
   "source": [
    " ## More useful array operations"
   ]
  },
  {
   "cell_type": "markdown",
   "id": "sublime-linux",
   "metadata": {},
   "source": [
    "This section covers maximum, minimum, sum, mean, product, stardardd deviation, and more."
   ]
  },
  {
   "cell_type": "code",
   "execution_count": 52,
   "id": "forbidden-updating",
   "metadata": {},
   "outputs": [
    {
     "data": {
      "text/plain": [
       "2.0"
      ]
     },
     "execution_count": 52,
     "metadata": {},
     "output_type": "execute_result"
    }
   ],
   "source": [
    "data.max()"
   ]
  },
  {
   "cell_type": "code",
   "execution_count": 53,
   "id": "intermediate-surgery",
   "metadata": {},
   "outputs": [
    {
     "data": {
      "text/plain": [
       "1.0"
      ]
     },
     "execution_count": 53,
     "metadata": {},
     "output_type": "execute_result"
    }
   ],
   "source": [
    "data.min()"
   ]
  },
  {
   "cell_type": "code",
   "execution_count": 54,
   "id": "capital-sentence",
   "metadata": {},
   "outputs": [
    {
     "data": {
      "text/plain": [
       "3.0"
      ]
     },
     "execution_count": 54,
     "metadata": {},
     "output_type": "execute_result"
    }
   ],
   "source": [
    "data.sum()"
   ]
  },
  {
   "cell_type": "markdown",
   "id": "related-harmony",
   "metadata": {},
   "source": [
    "Let's start with this array, called a:"
   ]
  },
  {
   "cell_type": "code",
   "execution_count": 55,
   "id": "smooth-detail",
   "metadata": {},
   "outputs": [],
   "source": [
    "a = np.array([[0.45053314, 0.17296777, 0.34376245, 0.5510652],\n",
    "\n",
    "              [0.54627315, 0.05093587, 0.40067661, 0.55645993],\n",
    "\n",
    "              [0.12697628, 0.82485143, 0.26590556, 0.56917101]])\n"
   ]
  },
  {
   "cell_type": "markdown",
   "id": "compound-prime",
   "metadata": {},
   "source": [
    "By default, every NumPy aggregation function will return the aggregate of the entire array. To find the sum or the minimum of the elements in our array, run:"
   ]
  },
  {
   "cell_type": "code",
   "execution_count": 56,
   "id": "extraordinary-worcester",
   "metadata": {},
   "outputs": [
    {
     "data": {
      "text/plain": [
       "4.8595784"
      ]
     },
     "execution_count": 56,
     "metadata": {},
     "output_type": "execute_result"
    }
   ],
   "source": [
    "a.sum()"
   ]
  },
  {
   "cell_type": "code",
   "execution_count": 57,
   "id": "experimental-turtle",
   "metadata": {},
   "outputs": [
    {
     "data": {
      "text/plain": [
       "0.05093587"
      ]
     },
     "execution_count": 57,
     "metadata": {},
     "output_type": "execute_result"
    }
   ],
   "source": [
    "a.min()"
   ]
  },
  {
   "cell_type": "markdown",
   "id": "humanitarian-membership",
   "metadata": {},
   "source": [
    "We can specify on which axis we want the aggregation function to be computed."
   ]
  },
  {
   "cell_type": "code",
   "execution_count": 58,
   "id": "auburn-hello",
   "metadata": {},
   "outputs": [
    {
     "data": {
      "text/plain": [
       "array([1.12378257, 1.04875507, 1.01034462, 1.67669614])"
      ]
     },
     "execution_count": 58,
     "metadata": {},
     "output_type": "execute_result"
    }
   ],
   "source": [
    "a.sum(axis = 0)"
   ]
  },
  {
   "cell_type": "code",
   "execution_count": 59,
   "id": "about-reach",
   "metadata": {},
   "outputs": [
    {
     "data": {
      "text/plain": [
       "array([1.51832856, 1.55434556, 1.78690428])"
      ]
     },
     "execution_count": 59,
     "metadata": {},
     "output_type": "execute_result"
    }
   ],
   "source": [
    "a.sum(axis = 1)"
   ]
  },
  {
   "cell_type": "code",
   "execution_count": 60,
   "id": "optical-remove",
   "metadata": {},
   "outputs": [
    {
     "data": {
      "text/plain": [
       "array([0.54627315, 0.82485143, 0.40067661, 0.56917101])"
      ]
     },
     "execution_count": 60,
     "metadata": {},
     "output_type": "execute_result"
    }
   ],
   "source": [
    "a.max(axis = 0)"
   ]
  },
  {
   "cell_type": "markdown",
   "id": "offshore-conversion",
   "metadata": {},
   "source": [
    "# Creating matrices.\n",
    "\n",
    "We can pass Python lists of list to create a 2-D array to represent them in Numpy."
   ]
  },
  {
   "cell_type": "code",
   "execution_count": 61,
   "id": "honest-award",
   "metadata": {},
   "outputs": [
    {
     "data": {
      "text/plain": [
       "array([[1, 2],\n",
       "       [3, 4],\n",
       "       [5, 6]])"
      ]
     },
     "execution_count": 61,
     "metadata": {},
     "output_type": "execute_result"
    }
   ],
   "source": [
    "data = np.array([[1, 2], [3, 4], [5, 6]])\n",
    "data "
   ]
  },
  {
   "cell_type": "markdown",
   "id": "young-comfort",
   "metadata": {},
   "source": [
    "Indexing and slicing operations are useful when we're manipulating matrices:"
   ]
  },
  {
   "cell_type": "code",
   "execution_count": 62,
   "id": "international-cornwall",
   "metadata": {},
   "outputs": [
    {
     "data": {
      "text/plain": [
       "2"
      ]
     },
     "execution_count": 62,
     "metadata": {},
     "output_type": "execute_result"
    }
   ],
   "source": [
    "data[0, 1]"
   ]
  },
  {
   "cell_type": "code",
   "execution_count": 63,
   "id": "enclosed-stadium",
   "metadata": {},
   "outputs": [
    {
     "data": {
      "text/plain": [
       "array([[3, 4],\n",
       "       [5, 6]])"
      ]
     },
     "execution_count": 63,
     "metadata": {},
     "output_type": "execute_result"
    }
   ],
   "source": [
    "data[1:3]"
   ]
  },
  {
   "cell_type": "code",
   "execution_count": 64,
   "id": "arctic-excerpt",
   "metadata": {},
   "outputs": [
    {
     "data": {
      "text/plain": [
       "array([5, 6])"
      ]
     },
     "execution_count": 64,
     "metadata": {},
     "output_type": "execute_result"
    }
   ],
   "source": [
    "data[2]"
   ]
  },
  {
   "cell_type": "code",
   "execution_count": 65,
   "id": "falling-bailey",
   "metadata": {},
   "outputs": [
    {
     "data": {
      "text/plain": [
       "array([1, 3])"
      ]
     },
     "execution_count": 65,
     "metadata": {},
     "output_type": "execute_result"
    }
   ],
   "source": [
    "data[0:2,0]"
   ]
  },
  {
   "cell_type": "markdown",
   "id": "listed-disclosure",
   "metadata": {},
   "source": [
    "![imagen_matrices](images/np_matrix_indexing.png)"
   ]
  },
  {
   "cell_type": "markdown",
   "id": "domestic-entertainment",
   "metadata": {},
   "source": [
    "We can aggregate all the values in a matrix and we can aggregate them across columns or rows using the **axis** parameter:"
   ]
  },
  {
   "cell_type": "code",
   "execution_count": 66,
   "id": "heavy-halifax",
   "metadata": {},
   "outputs": [
    {
     "data": {
      "text/plain": [
       "array([[1, 2],\n",
       "       [5, 3],\n",
       "       [4, 6]])"
      ]
     },
     "execution_count": 66,
     "metadata": {},
     "output_type": "execute_result"
    }
   ],
   "source": [
    "data = np.array([[1, 2], [5, 3], [4, 6]])\n",
    "data"
   ]
  },
  {
   "cell_type": "code",
   "execution_count": 67,
   "id": "grand-tokyo",
   "metadata": {},
   "outputs": [
    {
     "data": {
      "text/plain": [
       "6"
      ]
     },
     "execution_count": 67,
     "metadata": {},
     "output_type": "execute_result"
    }
   ],
   "source": [
    "data.max()"
   ]
  },
  {
   "cell_type": "code",
   "execution_count": 68,
   "id": "emotional-promotion",
   "metadata": {},
   "outputs": [
    {
     "data": {
      "text/plain": [
       "1"
      ]
     },
     "execution_count": 68,
     "metadata": {},
     "output_type": "execute_result"
    }
   ],
   "source": [
    "data.min()"
   ]
  },
  {
   "cell_type": "code",
   "execution_count": 69,
   "id": "simplified-immunology",
   "metadata": {},
   "outputs": [
    {
     "data": {
      "text/plain": [
       "array([5, 6])"
      ]
     },
     "execution_count": 69,
     "metadata": {},
     "output_type": "execute_result"
    }
   ],
   "source": [
    "data.max(axis = 0)"
   ]
  },
  {
   "cell_type": "code",
   "execution_count": 70,
   "id": "suspended-paintball",
   "metadata": {},
   "outputs": [
    {
     "data": {
      "text/plain": [
       "array([2, 5, 6])"
      ]
     },
     "execution_count": 70,
     "metadata": {},
     "output_type": "execute_result"
    }
   ],
   "source": [
    "data.max(axis = 1)"
   ]
  },
  {
   "cell_type": "code",
   "execution_count": 71,
   "id": "martial-ecuador",
   "metadata": {},
   "outputs": [
    {
     "data": {
      "text/plain": [
       "array([1, 2])"
      ]
     },
     "execution_count": 71,
     "metadata": {},
     "output_type": "execute_result"
    }
   ],
   "source": [
    "data.min(axis = 0)"
   ]
  },
  {
   "cell_type": "code",
   "execution_count": 72,
   "id": "hollywood-connection",
   "metadata": {},
   "outputs": [
    {
     "data": {
      "text/plain": [
       "array([2, 5, 6])"
      ]
     },
     "execution_count": 72,
     "metadata": {},
     "output_type": "execute_result"
    }
   ],
   "source": [
    "data.max(axis = 1)"
   ]
  },
  {
   "cell_type": "markdown",
   "id": "together-litigation",
   "metadata": {},
   "source": [
    "Remember:\n",
    "- axis = 0: rows\n",
    "- axis = 1: columns"
   ]
  },
  {
   "cell_type": "markdown",
   "id": "coordinate-cooling",
   "metadata": {},
   "source": [
    "Once we've created our matrices, we can add and multiply them using arithmetic opertators if we have two matrices that are the same size."
   ]
  },
  {
   "cell_type": "code",
   "execution_count": 73,
   "id": "frank-plastic",
   "metadata": {},
   "outputs": [
    {
     "data": {
      "text/plain": [
       "array([[1, 1],\n",
       "       [1, 1]])"
      ]
     },
     "execution_count": 73,
     "metadata": {},
     "output_type": "execute_result"
    }
   ],
   "source": [
    "data = np.array([[1, 2], [3, 4]])\n",
    "ones = np.ones([2,2], dtype = int)\n",
    "ones"
   ]
  },
  {
   "cell_type": "code",
   "execution_count": 74,
   "id": "coastal-shoulder",
   "metadata": {},
   "outputs": [
    {
     "data": {
      "text/plain": [
       "array([[2, 3],\n",
       "       [4, 5]])"
      ]
     },
     "execution_count": 74,
     "metadata": {},
     "output_type": "execute_result"
    }
   ],
   "source": [
    "data + ones"
   ]
  },
  {
   "cell_type": "markdown",
   "id": "fifth-illness",
   "metadata": {},
   "source": [
    "We can do arithmetic operations on matrices of different sizes,  but only if one matrix has only one column or one row. In this case, Numpy will use its bradcast rules for the operation."
   ]
  },
  {
   "cell_type": "code",
   "execution_count": 79,
   "id": "victorian-lemon",
   "metadata": {},
   "outputs": [
    {
     "data": {
      "text/plain": [
       "array([[1, 2],\n",
       "       [3, 4],\n",
       "       [5, 6]])"
      ]
     },
     "execution_count": 79,
     "metadata": {},
     "output_type": "execute_result"
    }
   ],
   "source": [
    "data = np.array([[1, 2], [3, 4], [5, 6]])\n",
    "ones_row = np.array([[1, 1]])\n",
    "data"
   ]
  },
  {
   "cell_type": "code",
   "execution_count": 77,
   "id": "sapphire-transition",
   "metadata": {},
   "outputs": [
    {
     "data": {
      "text/plain": [
       "array([[2, 3],\n",
       "       [4, 5],\n",
       "       [6, 7]])"
      ]
     },
     "execution_count": 77,
     "metadata": {},
     "output_type": "execute_result"
    }
   ],
   "source": [
    "data + ones_row"
   ]
  },
  {
   "cell_type": "code",
   "execution_count": 84,
   "id": "transsexual-illinois",
   "metadata": {},
   "outputs": [
    {
     "data": {
      "text/plain": [
       "array([[[1., 1.],\n",
       "        [1., 1.],\n",
       "        [1., 1.]],\n",
       "\n",
       "       [[1., 1.],\n",
       "        [1., 1.],\n",
       "        [1., 1.]]])"
      ]
     },
     "execution_count": 84,
     "metadata": {},
     "output_type": "execute_result"
    }
   ],
   "source": [
    "np.ones((2,3, 2))"
   ]
  },
  {
   "cell_type": "markdown",
   "id": "prescribed-spring",
   "metadata": {},
   "source": [
    "Thera are often instances where we want NumPy to initialize the values of an array. NumPy offers functions like **ones()** and **zeros()**, and the **random.Generator** class for random number generation for that."
   ]
  },
  {
   "cell_type": "code",
   "execution_count": 85,
   "id": "virtual-school",
   "metadata": {},
   "outputs": [
    {
     "data": {
      "text/plain": [
       "array([1., 1.])"
      ]
     },
     "execution_count": 85,
     "metadata": {},
     "output_type": "execute_result"
    }
   ],
   "source": [
    "np.ones(2)"
   ]
  },
  {
   "cell_type": "code",
   "execution_count": 88,
   "id": "injured-criticism",
   "metadata": {},
   "outputs": [
    {
     "data": {
      "text/plain": [
       "array([0., 0., 0.])"
      ]
     },
     "execution_count": 88,
     "metadata": {},
     "output_type": "execute_result"
    }
   ],
   "source": [
    "np.zeros(3)"
   ]
  },
  {
   "cell_type": "code",
   "execution_count": 95,
   "id": "wired-banking",
   "metadata": {
    "scrolled": false
   },
   "outputs": [],
   "source": [
    "rng = np.random.default_rng?"
   ]
  },
  {
   "cell_type": "code",
   "execution_count": 135,
   "id": "exact-flexibility",
   "metadata": {},
   "outputs": [],
   "source": [
    "rng = np.random.default_rng(3)"
   ]
  },
  {
   "cell_type": "code",
   "execution_count": 139,
   "id": "rubber-adaptation",
   "metadata": {},
   "outputs": [
    {
     "data": {
      "text/plain": [
       "array([0.43062802, 0.58679857, 0.73783779, 0.95626725])"
      ]
     },
     "execution_count": 139,
     "metadata": {},
     "output_type": "execute_result"
    }
   ],
   "source": [
    "rng.random(4)"
   ]
  },
  {
   "cell_type": "markdown",
   "id": "arbitrary-opposition",
   "metadata": {},
   "source": [
    "We can also use **ones()**, **zeros()**, and **random()** to create a 2D array if we give them a tuple describing the dimensions of the matrix."
   ]
  },
  {
   "cell_type": "code",
   "execution_count": 156,
   "id": "comic-metro",
   "metadata": {},
   "outputs": [
    {
     "data": {
      "text/plain": [
       "array([[1., 1.],\n",
       "       [1., 1.],\n",
       "       [1., 1.]])"
      ]
     },
     "execution_count": 156,
     "metadata": {},
     "output_type": "execute_result"
    }
   ],
   "source": [
    "np.ones((3, 2))"
   ]
  },
  {
   "cell_type": "code",
   "execution_count": 157,
   "id": "narrow-pepper",
   "metadata": {},
   "outputs": [
    {
     "data": {
      "text/plain": [
       "array([[0., 0.],\n",
       "       [0., 0.],\n",
       "       [0., 0.]])"
      ]
     },
     "execution_count": 157,
     "metadata": {},
     "output_type": "execute_result"
    }
   ],
   "source": [
    "np.zeros((3, 2))"
   ]
  },
  {
   "cell_type": "code",
   "execution_count": 158,
   "id": "fantastic-korean",
   "metadata": {},
   "outputs": [
    {
     "data": {
      "text/plain": [
       "array([[[0.62369273, 0.60688379],\n",
       "        [0.97055876, 0.78703271],\n",
       "        [0.78991748, 0.05409376]],\n",
       "\n",
       "       [[0.36928631, 0.08489477],\n",
       "        [0.19352758, 0.21386699],\n",
       "        [0.85864193, 0.12675498]]])"
      ]
     },
     "execution_count": 158,
     "metadata": {},
     "output_type": "execute_result"
    }
   ],
   "source": [
    "rng.random((2, 3, 2))"
   ]
  },
  {
   "cell_type": "markdown",
   "id": "effective-robin",
   "metadata": {},
   "source": [
    "## Generating random numbers."
   ]
  },
  {
   "cell_type": "markdown",
   "id": "searching-climate",
   "metadata": {},
   "source": [
    "\n",
    "THe use of random number generation is an important part of the configuration and evaluation of many numerical and machine learning algorithms. Wheter you need to randomly initialize weighs in a neural network, split data into random setsk, or randomly shuffle your dataset, being able to generate random numbers (actaully, repeatable pseudo-random numbers) is essental\n",
    "\n",
    "With **Generator.integers**, you can generate random integers form low (remember taht is inclusive with NumPy) to high (exclusive). We can set **endpoint = True** to make the high number inclusive.\n",
    "\n",
    "We can generate a 2 x 4 array of random integers between 0 and 4 with:"
   ]
  },
  {
   "cell_type": "code",
   "execution_count": 150,
   "id": "swedish-heather",
   "metadata": {},
   "outputs": [
    {
     "data": {
      "text/plain": [
       "array([[6, 8, 1, 2],\n",
       "       [5, 5, 3, 3]])"
      ]
     },
     "execution_count": 150,
     "metadata": {},
     "output_type": "execute_result"
    }
   ],
   "source": [
    "rng.integers(10, size=(2,4))"
   ]
  },
  {
   "cell_type": "code",
   "execution_count": 151,
   "id": "legitimate-exemption",
   "metadata": {},
   "outputs": [],
   "source": [
    "rng.integers?"
   ]
  },
  {
   "cell_type": "code",
   "execution_count": 153,
   "id": "steady-lebanon",
   "metadata": {},
   "outputs": [
    {
     "data": {
      "text/plain": [
       "array([[18,  4, 74, 18, 75]])"
      ]
     },
     "execution_count": 153,
     "metadata": {},
     "output_type": "execute_result"
    }
   ],
   "source": [
    "rng.integers(low = 0,high = 100, size = (1, 5))"
   ]
  },
  {
   "cell_type": "code",
   "execution_count": 159,
   "id": "thorough-auckland",
   "metadata": {},
   "outputs": [
    {
     "data": {
      "text/plain": [
       "array([[0.29675777, 0.49284698],\n",
       "       [0.84946041, 0.96523142]])"
      ]
     },
     "execution_count": 159,
     "metadata": {},
     "output_type": "execute_result"
    }
   ],
   "source": [
    "rng.random((2,2))"
   ]
  },
  {
   "cell_type": "markdown",
   "id": "decent-receipt",
   "metadata": {},
   "source": [
    "## How to get unique items and counts."
   ]
  },
  {
   "cell_type": "markdown",
   "id": "metropolitan-lottery",
   "metadata": {},
   "source": [
    "In this section we will cover **np.unique()**."
   ]
  },
  {
   "cell_type": "code",
   "execution_count": 160,
   "id": "dominant-greenhouse",
   "metadata": {},
   "outputs": [],
   "source": [
    "a = np.array([11, 11, 12, 13, 14, 15, 16, 17, 12, 13, 11, 14, 18, 19, 20])"
   ]
  },
  {
   "cell_type": "code",
   "execution_count": 162,
   "id": "elder-stephen",
   "metadata": {},
   "outputs": [],
   "source": [
    "np.unique?"
   ]
  },
  {
   "cell_type": "markdown",
   "id": "plastic-recruitment",
   "metadata": {},
   "source": [
    "To get the indices of unique values in a NumPy array (an array of first index positions of unique values in the array), just pass the **return_index** argument in **np.unique()** as well as your array."
   ]
  },
  {
   "cell_type": "code",
   "execution_count": 172,
   "id": "female-cause",
   "metadata": {},
   "outputs": [],
   "source": [
    "np.unique?"
   ]
  },
  {
   "cell_type": "code",
   "execution_count": 166,
   "id": "black-clause",
   "metadata": {},
   "outputs": [
    {
     "name": "stdout",
     "output_type": "stream",
     "text": [
      "[11 12 13 14 15 16 17 18 19 20]\n",
      "[ 0  2  3  4  5  6  7 12 13 14]\n"
     ]
    }
   ],
   "source": [
    "u, indices = np.unique(a, return_index = True)\n",
    "# unique and sorted\n",
    "print(u)\n",
    "print(indices)"
   ]
  },
  {
   "cell_type": "markdown",
   "id": "minute-celebrity",
   "metadata": {},
   "source": [
    "We can pass the **return_counts** argument in **np.unique()** along with our array to get the frequency count of unique values in a NumPy array."
   ]
  },
  {
   "cell_type": "code",
   "execution_count": 168,
   "id": "processed-howard",
   "metadata": {},
   "outputs": [
    {
     "name": "stdout",
     "output_type": "stream",
     "text": [
      "[3 2 2 2 1 1 1 1 1 1]\n"
     ]
    }
   ],
   "source": [
    "unique_values, occurrence_count = np.unique(a, return_counts = True)\n",
    "print(occurrence_count)"
   ]
  },
  {
   "cell_type": "markdown",
   "id": "alone-overview",
   "metadata": {},
   "source": [
    "This also works with 2D arrays:"
   ]
  },
  {
   "cell_type": "code",
   "execution_count": 169,
   "id": "governing-model",
   "metadata": {},
   "outputs": [
    {
     "data": {
      "text/plain": [
       "array([[ 1,  2,  3,  4],\n",
       "       [ 5,  6,  7,  8],\n",
       "       [ 9, 10, 11, 12],\n",
       "       [ 1,  2,  3,  4]])"
      ]
     },
     "execution_count": 169,
     "metadata": {},
     "output_type": "execute_result"
    }
   ],
   "source": [
    "a_2d = np.array([[1, 2, 3, 4], [5, 6, 7, 8], [9, 10, 11, 12], [1, 2, 3, 4]])\n",
    "a_2d"
   ]
  },
  {
   "cell_type": "code",
   "execution_count": 177,
   "id": "adapted-listing",
   "metadata": {},
   "outputs": [
    {
     "name": "stdout",
     "output_type": "stream",
     "text": [
      "[ 1  2  3  4  5  6  7  8  9 10 11 12]\n"
     ]
    }
   ],
   "source": [
    "unique_values = np.unique(a_2d)\n",
    "print(unique_values)"
   ]
  },
  {
   "cell_type": "markdown",
   "id": "editorial-bulletin",
   "metadata": {},
   "source": [
    "If the axis argument isn't passed, our 2D array will be flattened. If we want to get the unique rows or columns, make sure to pass **axis** argument:"
   ]
  },
  {
   "cell_type": "code",
   "execution_count": 181,
   "id": "amazing-failure",
   "metadata": {},
   "outputs": [
    {
     "name": "stdout",
     "output_type": "stream",
     "text": [
      "[[ 1  2  3  4]\n",
      " [ 5  6  7  8]\n",
      " [ 9 10 11 12]]\n"
     ]
    }
   ],
   "source": [
    "unique_rows = np.unique(a_2d, axis = 0)\n",
    "print(unique_rows)"
   ]
  },
  {
   "cell_type": "markdown",
   "id": "manufactured-message",
   "metadata": {},
   "source": [
    "## Transposing and reshaping a matrix."
   ]
  },
  {
   "cell_type": "markdown",
   "id": "global-tradition",
   "metadata": {},
   "source": [
    "This section covers **arr.reshape()**, **arr.transpose()**, **arr.T**"
   ]
  },
  {
   "cell_type": "code",
   "execution_count": null,
   "id": "cardiac-nursery",
   "metadata": {},
   "outputs": [],
   "source": []
  }
 ],
 "metadata": {
  "kernelspec": {
   "display_name": "Python 3",
   "language": "python",
   "name": "python3"
  },
  "language_info": {
   "codemirror_mode": {
    "name": "ipython",
    "version": 3
   },
   "file_extension": ".py",
   "mimetype": "text/x-python",
   "name": "python",
   "nbconvert_exporter": "python",
   "pygments_lexer": "ipython3",
   "version": "3.7.3"
  }
 },
 "nbformat": 4,
 "nbformat_minor": 5
}
