{
 "cells": [
  {
   "cell_type": "markdown",
   "id": "gothic-debate",
   "metadata": {},
   "source": [
    "# Quickstart Numpy.\n",
    "This tutorial is from [this link](https://numpy.org/devdocs/user/absolute_beginners.html)"
   ]
  },
  {
   "cell_type": "markdown",
   "id": "signal-breath",
   "metadata": {},
   "source": [
    "We import **Numpy**"
   ]
  },
  {
   "cell_type": "code",
   "execution_count": 3,
   "id": "occupational-listening",
   "metadata": {},
   "outputs": [],
   "source": [
    "import numpy as np"
   ]
  },
  {
   "cell_type": "markdown",
   "id": "mental-intellectual",
   "metadata": {},
   "source": [
    "We can create arrays with np.array()"
   ]
  },
  {
   "cell_type": "code",
   "execution_count": 10,
   "id": "pregnant-coating",
   "metadata": {},
   "outputs": [
    {
     "name": "stdout",
     "output_type": "stream",
     "text": [
      "[1 2 3 4]\n",
      "1\n"
     ]
    }
   ],
   "source": [
    "a = np.array([1, 2, 3, 4])\n",
    "print(a)\n",
    "print(a[0])"
   ]
  },
  {
   "cell_type": "markdown",
   "id": "atmospheric-location",
   "metadata": {},
   "source": [
    "## How to create a basic array."
   ]
  },
  {
   "cell_type": "markdown",
   "id": "extensive-slave",
   "metadata": {},
   "source": [
    "To create an array we can use multiple options:\n",
    "- np.array\n",
    "- np.zeros\n",
    "- np.ones\n",
    "- np.empty\n",
    "- np.arange\n",
    "- np.linspace"
   ]
  },
  {
   "cell_type": "code",
   "execution_count": 28,
   "id": "extra-allen",
   "metadata": {},
   "outputs": [
    {
     "data": {
      "text/plain": [
       "array([[[0., 0., 0.],\n",
       "        [0., 0., 0.],\n",
       "        [0., 0., 0.]],\n",
       "\n",
       "       [[0., 0., 0.],\n",
       "        [0., 0., 0.],\n",
       "        [0., 0., 0.]]])"
      ]
     },
     "execution_count": 28,
     "metadata": {},
     "output_type": "execute_result"
    }
   ],
   "source": [
    "np.array([[1, 2, 3, 4],[3, 4, 5, 6]])"
   ]
  },
  {
   "cell_type": "code",
   "execution_count": 22,
   "id": "transsexual-geology",
   "metadata": {},
   "outputs": [
    {
     "data": {
      "text/plain": [
       "array([[[0., 0., 0.],\n",
       "        [0., 0., 0.],\n",
       "        [0., 0., 0.]],\n",
       "\n",
       "       [[0., 0., 0.],\n",
       "        [0., 0., 0.],\n",
       "        [0., 0., 0.]]])"
      ]
     },
     "execution_count": 22,
     "metadata": {},
     "output_type": "execute_result"
    }
   ],
   "source": [
    "np.zeros((2, 3, 3))"
   ]
  },
  {
   "cell_type": "code",
   "execution_count": 23,
   "id": "extended-monkey",
   "metadata": {},
   "outputs": [
    {
     "data": {
      "text/plain": [
       "array([[1., 1.],\n",
       "       [1., 1.]])"
      ]
     },
     "execution_count": 23,
     "metadata": {},
     "output_type": "execute_result"
    }
   ],
   "source": [
    "np.ones((2, 2))"
   ]
  },
  {
   "cell_type": "code",
   "execution_count": 24,
   "id": "historic-dodge",
   "metadata": {},
   "outputs": [
    {
     "data": {
      "text/plain": [
       "array([[ 5.],\n",
       "       [10.]])"
      ]
     },
     "execution_count": 24,
     "metadata": {},
     "output_type": "execute_result"
    }
   ],
   "source": [
    "np.empty((2, 1))"
   ]
  },
  {
   "cell_type": "code",
   "execution_count": 25,
   "id": "freelance-warrant",
   "metadata": {},
   "outputs": [
    {
     "data": {
      "text/plain": [
       "array([2, 4, 6, 8])"
      ]
     },
     "execution_count": 25,
     "metadata": {},
     "output_type": "execute_result"
    }
   ],
   "source": [
    "np.arange(2, 10, 2)"
   ]
  },
  {
   "cell_type": "code",
   "execution_count": 26,
   "id": "reserved-letters",
   "metadata": {},
   "outputs": [
    {
     "data": {
      "text/plain": [
       "array([0, 1, 2, 3, 4, 5, 6, 7, 8, 9])"
      ]
     },
     "execution_count": 26,
     "metadata": {},
     "output_type": "execute_result"
    }
   ],
   "source": [
    "np.arange(10)"
   ]
  },
  {
   "cell_type": "code",
   "execution_count": 29,
   "id": "ranking-governor",
   "metadata": {},
   "outputs": [
    {
     "data": {
      "text/plain": [
       "array([ 0.,  5., 10.])"
      ]
     },
     "execution_count": 29,
     "metadata": {},
     "output_type": "execute_result"
    }
   ],
   "source": [
    "np.linspace(0, 10, 3)"
   ]
  },
  {
   "cell_type": "markdown",
   "id": "certain-chocolate",
   "metadata": {},
   "source": [
    "## Adding, removing and sorting elements of an array."
   ]
  },
  {
   "cell_type": "markdown",
   "id": "underlying-bernard",
   "metadata": {},
   "source": [
    "We can sort or concatenate elements of an array with the next methods:\n",
    "- np.sort()\n",
    "- np.concatenate()"
   ]
  },
  {
   "cell_type": "code",
   "execution_count": 30,
   "id": "secure-clerk",
   "metadata": {},
   "outputs": [
    {
     "name": "stdout",
     "output_type": "stream",
     "text": [
      "[1 2 3 4 5 6 7 8]\n",
      "[1 2 3 4 5 6 7 8]\n"
     ]
    }
   ],
   "source": [
    "arr = np.array([2, 1, 5, 3, 7, 4, 6, 8])\n",
    "print(np.sort(arr))\n",
    "\n",
    "a = np.array([1, 2, 3, 4])\n",
    "b = np.array([5, 6, 7, 8])\n",
    "print(np.concatenate((a,b)))"
   ]
  },
  {
   "cell_type": "markdown",
   "id": "favorite-error",
   "metadata": {},
   "source": [
    "We can concatenate by different axes or dimensions:"
   ]
  },
  {
   "cell_type": "code",
   "execution_count": 34,
   "id": "superior-terrace",
   "metadata": {},
   "outputs": [
    {
     "name": "stdout",
     "output_type": "stream",
     "text": [
      "[[1 2]\n",
      " [3 4]\n",
      " [5 6]]\n"
     ]
    }
   ],
   "source": [
    "x = np.array([[1, 2], [3, 4]])\n",
    "y = np.array([[5, 6]])\n",
    "z = np.concatenate((x, y), axis = 0)\n",
    "print(z)"
   ]
  },
  {
   "cell_type": "markdown",
   "id": "british-breeding",
   "metadata": {},
   "source": [
    "## How do you know the shape and size of an array?\n",
    "We can use:\n",
    "- ndarray.ndim number of dimensions of the array\n",
    "- ndarray.shape: tupple with the dim of each axis\n",
    "- ndarray.size: number of total elements of the array"
   ]
  },
  {
   "cell_type": "code",
   "execution_count": 39,
   "id": "enabling-scanner",
   "metadata": {},
   "outputs": [
    {
     "name": "stdout",
     "output_type": "stream",
     "text": [
      "4\n",
      "(2, 2)\n",
      "2\n"
     ]
    }
   ],
   "source": [
    "print(x.size)\n",
    "print(x.shape)\n",
    "print(x.ndim)"
   ]
  },
  {
   "cell_type": "markdown",
   "id": "great-keeping",
   "metadata": {},
   "source": [
    "## Can you reshape an array\n",
    "We can reshape with **np.reshape** or ndarray.reshape() "
   ]
  },
  {
   "cell_type": "code",
   "execution_count": 55,
   "id": "associate-radiation",
   "metadata": {},
   "outputs": [
    {
     "name": "stdout",
     "output_type": "stream",
     "text": [
      "[0 1 2 3 4 5]\n",
      "[[0 1 2]\n",
      " [3 4 5]]\n"
     ]
    }
   ],
   "source": [
    "a = np.arange(6)\n",
    "print(a)\n",
    "b = np.reshape(a, newshape = (2, 3))\n",
    "b = a.reshape(2, 3)\n",
    "print(b)"
   ]
  },
  {
   "cell_type": "markdown",
   "id": "handled-japan",
   "metadata": {},
   "source": [
    "## How to convert an array of 1D to 2D."
   ]
  },
  {
   "cell_type": "markdown",
   "id": "clear-klein",
   "metadata": {},
   "source": [
    "We can do it with two manners: \n",
    "- np.newaxis\n",
    "- np.expand_dims"
   ]
  },
  {
   "cell_type": "code",
   "execution_count": 62,
   "id": "integral-norway",
   "metadata": {},
   "outputs": [
    {
     "name": "stdout",
     "output_type": "stream",
     "text": [
      "[1 2 3 4 5 6]\n",
      "[[1 2 3 4 5 6]]\n",
      "(1, 6)\n",
      "(6, 1)\n",
      "(1, 6)\n"
     ]
    }
   ],
   "source": [
    "a = np.array([1, 2, 3, 4, 5, 6])\n",
    "print(a)\n",
    "a2 = a[np.newaxis, :]\n",
    "a3 = a[:, np.newaxis]\n",
    "print(a2)\n",
    "print(a2.shape)\n",
    "print(a3.shape)\n",
    "c = np.expand_dims(a, axis = 0)\n",
    "print(c.shape)"
   ]
  },
  {
   "cell_type": "markdown",
   "id": "descending-quantum",
   "metadata": {},
   "source": [
    "## Indexing and slicing."
   ]
  },
  {
   "cell_type": "markdown",
   "id": "critical-checklist",
   "metadata": {},
   "source": [
    "We have some examples:"
   ]
  },
  {
   "cell_type": "code",
   "execution_count": null,
   "id": "possible-albania",
   "metadata": {},
   "outputs": [],
   "source": [
    "data = np.array([1, 2, 3])\n",
    "print(data[1])\n",
    "print(data[0:2])\n",
    "print(data[1:])\n",
    "print(data[-2:])"
   ]
  }
 ],
 "metadata": {
  "kernelspec": {
   "display_name": "Python 3",
   "language": "python",
   "name": "python3"
  },
  "language_info": {
   "codemirror_mode": {
    "name": "ipython",
    "version": 3
   },
   "file_extension": ".py",
   "mimetype": "text/x-python",
   "name": "python",
   "nbconvert_exporter": "python",
   "pygments_lexer": "ipython3",
   "version": "3.7.3"
  }
 },
 "nbformat": 4,
 "nbformat_minor": 5
}
